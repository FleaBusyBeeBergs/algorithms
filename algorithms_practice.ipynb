{
  "nbformat": 4,
  "nbformat_minor": 0,
  "metadata": {
    "colab": {
      "provenance": [],
      "generative_ai_disabled": true,
      "authorship_tag": "ABX9TyO9vazr2MHlvFVjCgnzgMJX",
      "include_colab_link": true
    },
    "kernelspec": {
      "name": "python3",
      "display_name": "Python 3"
    },
    "language_info": {
      "name": "python"
    }
  },
  "cells": [
    {
      "cell_type": "markdown",
      "metadata": {
        "id": "view-in-github",
        "colab_type": "text"
      },
      "source": [
        "<a href=\"https://colab.research.google.com/github/FleaBusyBeeBergs/algorithms/blob/main/algorithms_practice.ipynb\" target=\"_parent\"><img src=\"https://colab.research.google.com/assets/colab-badge.svg\" alt=\"Open In Colab\"/></a>"
      ]
    },
    {
      "cell_type": "markdown",
      "source": [
        "# Algorithms practice"
      ],
      "metadata": {
        "id": "31Yt_wYWFYIg"
      }
    },
    {
      "cell_type": "markdown",
      "source": [
        "## 1. Sorting"
      ],
      "metadata": {
        "id": "RQ_UI1Xxd5Hx"
      }
    },
    {
      "cell_type": "code",
      "execution_count": null,
      "metadata": {
        "id": "mQZ2whqTFRC2"
      },
      "outputs": [],
      "source": [
        "# insertion sort ascending\n",
        "# to get descending, change condition to arr[i] < key\n",
        "\n",
        "def insertion_sort(arr):\n",
        "  '''\n",
        "  Sorts a list of comparable elements in ascending order using the insertion sort algorithm.\n",
        "\n",
        "  Parameters:\n",
        "        arr (list): The list of elements to be sorted. Elements must be comparable using '>'.\n",
        "\n",
        "  Returns:\n",
        "        None: The input list is sorted in place.\n",
        "\n",
        "  Algorithm:\n",
        "        - Iterates through the list starting from index 1.\n",
        "        - For each element (the 'key'), shifts all larger elements in the sorted portion of the list\n",
        "          one position to the right.\n",
        "        - Inserts the key into its correct sorted position.\n",
        "\n",
        "  Time Complexity:\n",
        "        - Best case (already sorted): O(n)\n",
        "        - Worst case (reverse sorted): O(n^2)\n",
        "        - Average case: O(n^2)\n",
        "\n",
        "  Space Complexity:\n",
        "        - O(1), since sorting is done in place.\n",
        "  '''\n",
        "\n",
        "  for j in range(1, len(arr)):\n",
        "    key = arr[j]\n",
        "    i = j - 1\n",
        "\n",
        "    while i >= 0 and arr[i] > key:\n",
        "      arr[i + 1] = arr[i]\n",
        "      i = i - 1\n",
        "\n",
        "    arr[i + 1] = key"
      ]
    },
    {
      "cell_type": "code",
      "source": [
        "A = [10,-2, 17, 8, 13, 2]\n",
        "\n",
        "insertion_sort(A)\n",
        "\n",
        "print(A)"
      ],
      "metadata": {
        "colab": {
          "base_uri": "https://localhost:8080/"
        },
        "id": "EwQXupN8HXd7",
        "outputId": "8fb0a5fb-3d41-4f68-ca35-8ef88eb795db"
      },
      "execution_count": null,
      "outputs": [
        {
          "output_type": "stream",
          "name": "stdout",
          "text": [
            "[-2, 2, 8, 10, 13, 17]\n"
          ]
        }
      ]
    },
    {
      "cell_type": "markdown",
      "source": [
        "## 2. Searching"
      ],
      "metadata": {
        "id": "ln29XHwzeAzZ"
      }
    },
    {
      "cell_type": "code",
      "source": [
        "# binary search - only works on sorted arrays\n",
        "\n",
        "def BinarySearchHelper (lst, elt, left, right):\n",
        "    '''\n",
        "    Recursively performs a binary search for `elt` within a sorted list `lst`.\n",
        "\n",
        "    Parameters:\n",
        "        lst (list): The sorted list to search in.\n",
        "        elt (any): The element to search for.\n",
        "        left (int): The starting index of the current search range.\n",
        "        right (int): The ending index of the current search range.\n",
        "\n",
        "    Returns:\n",
        "        int: The index of `elt` in `lst` if found.\n",
        "        None: If `elt` is not present in `lst`.\n",
        "\n",
        "    Preconditions:\n",
        "        - 0 <= left <= right <= len(lst) - 1\n",
        "        - lst must be sorted in ascending order.\n",
        "        - If `elt` exists in `lst`, it must be within the sublist lst[left:right+1].\n",
        "\n",
        "    Invariant:\n",
        "        The search range is always reduced in size with each recursive call.\n",
        "    '''\n",
        "    if (left > right): #search region is empty, exit\n",
        "        print('element not found in list')\n",
        "        return None\n",
        "\n",
        "    else:\n",
        "        mid = (left + right) // 2\n",
        "\n",
        "        if lst[mid] == elt: #element found, return it's index\n",
        "          print(f'element found at index {mid}')\n",
        "          return mid\n",
        "\n",
        "        elif lst[mid] < elt:\n",
        "          return BinarySearchHelper(lst, elt, (mid+1), right)\n",
        "\n",
        "        else: #in this case, lst[mid] > elt\n",
        "          return BinarySearchHelper(lst, elt, left, (mid-1))\n",
        "\n",
        "def binary_search(lst, elt):\n",
        "  return BinarySearchHelper(lst, elt, 0, len(lst) - 1)\n"
      ],
      "metadata": {
        "id": "AsCLAdRvF2c-"
      },
      "execution_count": null,
      "outputs": []
    },
    {
      "cell_type": "code",
      "source": [
        "arr = [1, 2, 3, 4, 5, 6, 7, 8, 9, 10]\n",
        "elt = 7\n",
        "\n",
        "binary_search(arr, elt)"
      ],
      "metadata": {
        "colab": {
          "base_uri": "https://localhost:8080/"
        },
        "id": "MQcWSb0PWaM3",
        "outputId": "1cfa545c-81be-4093-9f96-02e52944c6af"
      },
      "execution_count": null,
      "outputs": [
        {
          "output_type": "stream",
          "name": "stdout",
          "text": [
            "element found at index 6\n"
          ]
        },
        {
          "output_type": "execute_result",
          "data": {
            "text/plain": [
              "6"
            ]
          },
          "metadata": {},
          "execution_count": 63
        }
      ]
    },
    {
      "cell_type": "markdown",
      "source": [
        "## 3. Indexing"
      ],
      "metadata": {
        "id": "eipuVhdUeKtS"
      }
    },
    {
      "cell_type": "code",
      "source": [
        "# find cross over index\n",
        "\n",
        "def findCrossoverIndexHelper(arr1, arr2, left, right):\n",
        "  '''\n",
        "    Recursively find a crossover index i in the range [left, right-1] such that:\n",
        "        arr1[i] > arr2[i]  and  arr1[i+1] <= arr2[i+1].\n",
        "\n",
        "    The lists x and y are both strictly increasing, have the same length,\n",
        "    and satisfy:\n",
        "        - x[0] > y[0]\n",
        "        - x[-1] < y[-1]\n",
        "      which guarantees the existence of at least one crossover index.\n",
        "\n",
        "    Parameters\n",
        "    ----------\n",
        "    arr1 : list of float or int\n",
        "        Sorted list of x-coordinates in strictly increasing order.\n",
        "    arr2 : list of float or int\n",
        "        Sorted list of y-coordinates in strictly increasing order.\n",
        "    left : int\n",
        "        Left bound (inclusive) of the search region.\n",
        "    right : int\n",
        "        Right bound (inclusive) of the search region.\n",
        "\n",
        "    Returns\n",
        "    -------\n",
        "    int\n",
        "        An index i such that x[i] > y[i] and x[i+1] <= y[i+1].\n",
        "\n",
        "    Notes\n",
        "    -----\n",
        "    - The function uses a binary search style approach to locate the crossover.\n",
        "    - Assumes that such an index exists in the given range.\n",
        "  '''\n",
        "  assert(len(arr1) == len(arr2))\n",
        "  assert(left >= 0)\n",
        "  assert(left <= right - 1)\n",
        "  assert(right < len(arr1))\n",
        "  assert(arr1[left] > arr2[left])\n",
        "  assert(arr1[right] < arr2[right])\n",
        "\n",
        "  mid = (left + right) // 2\n",
        "  assert(mid + 1 < len(arr1))\n",
        "\n",
        "  if (arr1[mid] > arr2[mid]) and (arr1[mid + 1] < arr2[mid + 1]):\n",
        "    print(f'cross over point found between {mid} and {mid + 1}')\n",
        "    return mid\n",
        "  elif arr1[mid] > arr2[mid]:\n",
        "    return findCrossoverIndexHelper(arr1, arr2, (mid + 1), right)\n",
        "  else:\n",
        "    return findCrossoverIndexHelper(arr1, arr2, left, (mid - 1))\n",
        "\n",
        "def findCrossoverIndex(arr1, arr2):\n",
        "  assert(len(arr1) == len(arr2))\n",
        "  assert(arr1[0] > arr2[0])\n",
        "\n",
        "  n = len(arr1)\n",
        "  assert(arr1[n - 1] < arr2[n - 1])\n",
        "\n",
        "  return findCrossoverIndexHelper(arr1, arr2, left = 0, right = (len(arr2) - 1))"
      ],
      "metadata": {
        "id": "zlneSUB0F6wJ"
      },
      "execution_count": null,
      "outputs": []
    }
  ]
}