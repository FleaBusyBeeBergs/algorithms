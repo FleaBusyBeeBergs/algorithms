{
  "nbformat": 4,
  "nbformat_minor": 0,
  "metadata": {
    "colab": {
      "provenance": [],
      "generative_ai_disabled": true,
      "authorship_tag": "ABX9TyO0yJiAx/RvzNNUKcBFj6eJ",
      "include_colab_link": true
    },
    "kernelspec": {
      "name": "python3",
      "display_name": "Python 3"
    },
    "language_info": {
      "name": "python"
    }
  },
  "cells": [
    {
      "cell_type": "markdown",
      "metadata": {
        "id": "view-in-github",
        "colab_type": "text"
      },
      "source": [
        "<a href=\"https://colab.research.google.com/github/FleaBusyBeeBergs/algorithms/blob/main/algorithms_practice.ipynb\" target=\"_parent\"><img src=\"https://colab.research.google.com/assets/colab-badge.svg\" alt=\"Open In Colab\"/></a>"
      ]
    },
    {
      "cell_type": "markdown",
      "source": [
        "# Algorithms practice"
      ],
      "metadata": {
        "id": "31Yt_wYWFYIg"
      }
    },
    {
      "cell_type": "markdown",
      "source": [
        "## 1. Sorting"
      ],
      "metadata": {
        "id": "RQ_UI1Xxd5Hx"
      }
    },
    {
      "cell_type": "markdown",
      "source": [
        "### 1.1 Insertion Sort"
      ],
      "metadata": {
        "id": "as84lcQya9TE"
      }
    },
    {
      "cell_type": "code",
      "execution_count": null,
      "metadata": {
        "id": "mQZ2whqTFRC2"
      },
      "outputs": [],
      "source": [
        "# insertion sort ascending\n",
        "# to get descending, change condition to arr[i] < key\n",
        "\n",
        "def insertion_sort(arr):\n",
        "  '''\n",
        "  Sorts a list of comparable elements in ascending order using the insertion sort algorithm.\n",
        "\n",
        "  Parameters:\n",
        "        arr (list): The list of elements to be sorted. Elements must be comparable using '>'.\n",
        "\n",
        "  Returns:\n",
        "        None: The input list is sorted in place.\n",
        "\n",
        "  Algorithm:\n",
        "        - Iterates through the list starting from index 1.\n",
        "        - For each element (the 'key'), shifts all larger elements in the sorted portion of the list\n",
        "          one position to the right.\n",
        "        - Inserts the key into its correct sorted position.\n",
        "\n",
        "  Time Complexity:\n",
        "        - Best case (already sorted): O(n)\n",
        "        - Worst case (reverse sorted): O(n^2)\n",
        "        - Average case: O(n^2)\n",
        "\n",
        "  Space Complexity:\n",
        "        - O(1), since sorting is done in place.\n",
        "  '''\n",
        "\n",
        "def insertion_sort(arr):\n",
        "\tfor j in range(1, len(arr)):\n",
        "\t\tkey = arr[j]\n",
        "\t\ti = j - 1\n",
        "\n",
        "\t\twhile i >= 0 and arr[i] > key:\n",
        "\t\t\tarr[i + 1] = arr[i]\n",
        "\t\t\ti -= 1\n",
        "\n",
        "\t\tarr[i + 1] = key\n",
        "\n",
        "\n"
      ]
    },
    {
      "cell_type": "code",
      "source": [
        "A = [10,-2, 18, -27, 101, 198, 13, 2]\n",
        "\n",
        "insertion_sort(A)\n",
        "\n",
        "print(A)"
      ],
      "metadata": {
        "colab": {
          "base_uri": "https://localhost:8080/"
        },
        "id": "EwQXupN8HXd7",
        "outputId": "22bf9f30-18f9-4a22-9fae-bd3b8fe1a45d"
      },
      "execution_count": null,
      "outputs": [
        {
          "output_type": "stream",
          "name": "stdout",
          "text": [
            "[-27, -2, 2, 10, 13, 18, 101, 198]\n"
          ]
        }
      ]
    },
    {
      "cell_type": "markdown",
      "source": [
        "### 1.2 Merge sort"
      ],
      "metadata": {
        "id": "FI0lBslMn3nj"
      }
    },
    {
      "cell_type": "markdown",
      "source": [
        "These notes are meant to augment the presentation of the merge-sort algorithm presented in the lecture.\n",
        "\n",
        "The main idea behind merge sort of a list of size `n` is to\n",
        "  1. Split the list into two \"sublists\" of size `n/2`\n",
        "  2. Sort the sublists\n",
        "  3. Merge the result.\n",
        "\n",
        "#### Merging Sorted Lists\n",
        "\n",
        "We will first focus on the merge procedure that given two lists\n",
        "`lst1` and `lst2` which are sorted in ascending order, returns\n",
        "a list that contains all the elements in `lst1` and `lst2` and is\n",
        "in sorted order.\n",
        "\n",
        "The main idea behind merge is to maintain two indices `i1` and `i2`,\n",
        "where `i1` is an index for `lst1` and `i2` is an index for `lst2`.\n",
        "\n",
        "  - If `lst1[i1] <= lst2[i2]` then we take the element `lst1[i1]` and  append it at the end of our output list. We then advance the index `i1`.\n",
        "  - Alternatively, `lst1[i1] > lst2[i2]`, then we take `lst2[i2]` and append it to the end of our output list. We then advance the index `i2`.\n",
        "\n",
        "If in the process above, we run over the end of the list, we simply copy the remaining elements of the other list."
      ],
      "metadata": {
        "id": "ABj3JLzApFn8"
      }
    },
    {
      "cell_type": "code",
      "source": [
        "def mergeLists(lst1, lst2):\n",
        "    n1 = len(lst1)\n",
        "    n2 = len(lst2)\n",
        "    if n1 == 0: # lst1 is empty\n",
        "        return list(lst2)\n",
        "    elif n2 == 0:\n",
        "        return list(lst1)\n",
        "    else:\n",
        "        output_lst = [] # This is the list we will return\n",
        "        i1 = 0\n",
        "        i2 = 0\n",
        "        while (i1 < n1 or i2 < n2):\n",
        "            if i1 < n1 and i2 < n2: # We are processing both lists\n",
        "                if (lst1[i1] <= lst2[i2]): # lst[i1] is the smaller elt\n",
        "                    output_lst.append(lst1[i1]) # append to end of output list\n",
        "                    i1 = i1 + 1 # advance index i1\n",
        "                else:\n",
        "                    output_lst.append(lst2[i2]) # append to end of output list\n",
        "                    i2 = i2 + 1 # advance index i2\n",
        "            elif i1 < n1: # We have run past the end of lst2\n",
        "                output_lst.append(lst1[i1]) # append lst1 to end of output list\n",
        "                i1 = i1 + 1\n",
        "            else:  # We have run past the end of lst1\n",
        "                output_lst.append(lst2[i2]) # append lst2 to end of output list\n",
        "                i2 = i2 + 1\n",
        "        return output_lst"
      ],
      "metadata": {
        "id": "ueJ60Un3pP91"
      },
      "execution_count": null,
      "outputs": []
    },
    {
      "cell_type": "code",
      "source": [
        "def mergeLists(lst1, lst2):\n",
        "\tn1 = len(lst1)\n",
        "\tn2 = len(lst2)\n",
        "\n",
        "\tif n1 == 0: \t\t# lst1 empty\n",
        "\t\treturn lst2\n",
        "\telif n2 == 0: \t\t# lst2 empty\n",
        "\t\treturn lst1\n",
        "\telse:\n",
        "\t\toutput_lst = []\n",
        "\t\ti1 = 0\t\t# we start from the left of each list\n",
        "\t\ti2 = 0\n",
        "\n",
        "\t\twhile (i1 < n1 or i2 < n2): \t# as long as one of the lists has at least one element\n",
        "\t\t\tif i1 < n1 and i2 < n2:\n",
        "\t\t\t\tif (lst1[i1] <= lst2[i2]):\n",
        "\t\t\t\t\toutput_lst.append(lst1[i1])\n",
        "\t\t\t\t\ti1 += 1\n",
        "\t\t\t\telse:\n",
        "\t\t\t\t\toutput_lst.append(lst2[i2])\n",
        "\t\t\t\t\ti2 += 1\n",
        "\n",
        "\t\t\telif i1 < n1: \t# we've run past the end of lst2\n",
        "\t\t\t\toutput_lst.append(lst1[i1])\n",
        "\t\t\t\ti1 += 1\n",
        "\t\t\telse: \t\t# we've run past the end of lst1\n",
        "\t\t\t\toutput_lst.append(lst2[i2])\n",
        "\t\t\t\ti2 += 1\n",
        "\t\treturn output_lst"
      ],
      "metadata": {
        "id": "1IfRGkWmtT5D"
      },
      "execution_count": null,
      "outputs": []
    },
    {
      "cell_type": "code",
      "source": [
        "def mergeLists(lst1, lst2):\n",
        "    n1 = len(lst1)\n",
        "    n2 = len(lst2)\n",
        "\n",
        "    if n1 == 0: # lst1 empty, copy lst2\n",
        "        return lst2\n",
        "    elif n2 == 0: # lst2 empty, copy lst1\n",
        "        return lst1\n",
        "    else: # neither empty, continue search\n",
        "        output_lst = []\n",
        "        i1 = 0\n",
        "        i2 = 0\n",
        "\n",
        "        while i1 < n1 or i2 < n2: # either list has elements\n",
        "            if i1 < n1 and i2 < n2:# processing both lists\n",
        "                if lst1[i1] <= lst2[i2]: # i1 smaller\n",
        "                    output_lst.append(lst1[i1])\n",
        "                    i1 += 1\n",
        "                else: # i2 smaller\n",
        "                    output_lst.append(lst2[i2])\n",
        "                    i2 += 1\n",
        "\n",
        "            elif i1 < n1: # run past end of lst2\n",
        "                output_lst.append(lst1[i1])\n",
        "                i1 += 1\n",
        "            else: # i2 < n2, run past end of lst1\n",
        "                output_lst.append(lst2[i2])\n",
        "                i2 += 1\n",
        "        return output_lst"
      ],
      "metadata": {
        "id": "PzRpXAWDZMMr"
      },
      "execution_count": null,
      "outputs": []
    },
    {
      "cell_type": "code",
      "source": [
        "# TEST CASES\n",
        "lst1 = mergeLists([0, 2, 3, 7, 10], [1, 4, 5, 6, 7, 8, 9, 10, 11, 12])\n",
        "print('lst1: %s' % str(lst1))\n",
        "assert lst1 == [0, 1, 2, 3, 4, 5, 6, 7, 7, 8, 9, 10, 10, 11, 12]\n",
        "\n",
        "lst2 = mergeLists([0,2],[1,3,6])\n",
        "print('lst2: %s' % str(lst2))\n",
        "assert lst2 == [0, 1, 2, 3, 6]\n",
        "\n",
        "lst3 = mergeLists([0], [0])\n",
        "\n",
        "print('lst3: %s' % str(lst3))\n",
        "assert lst3 == [0, 0]\n",
        "\n",
        "lst4 = mergeLists([], [0, 1, 5])\n",
        "print('lst4: %s' % str(lst4))\n",
        "assert lst4 == [0, 1, 5]\n",
        "\n",
        "lst5 = mergeLists([0, 1, 5], [])\n",
        "print('lst5: %s' % str(lst5))\n",
        "assert lst5 == [0, 1, 5]"
      ],
      "metadata": {
        "id": "4A85u8FwpSAY",
        "outputId": "a1262a62-34eb-4f4c-f852-aeeeb603e4d2",
        "colab": {
          "base_uri": "https://localhost:8080/"
        }
      },
      "execution_count": null,
      "outputs": [
        {
          "output_type": "stream",
          "name": "stdout",
          "text": [
            "lst1: [0, 1, 2, 3, 4, 5, 6, 7, 7, 8, 9, 10, 10, 11, 12]\n",
            "lst2: [0, 1, 2, 3, 6]\n",
            "lst3: [0, 0]\n",
            "lst4: [0, 1, 5]\n",
            "lst5: [0, 1, 5]\n"
          ]
        }
      ]
    },
    {
      "cell_type": "markdown",
      "source": [
        "#### Correctness of Merge Sorted Lists Algorithm\n",
        "\n",
        "The correctness of merge algorithm is given by the following \"loop invariant\" that holds whenever we are running the main loop of the algorithm.\n",
        "\n",
        "\n",
        "```python\n",
        "while (i1 < n1 or i2 < n2): ## WHILE LOOP\n",
        "    if i1 < n1 and i2 < n2:\n",
        "        if (lst1[i1] <= lst2[i2]):\n",
        "            output_lst.append(lst1[i1])\n",
        "            i1 = i1 + 1\n",
        "        else:\n",
        "            output_lst.append(lst2[i2])\n",
        "            i2 = i2 + 1\n",
        "        elif i1 < n1:\n",
        "            output_lst.append(lst1[i1])\n",
        "            i1 = i1 + 1\n",
        "        else:\n",
        "            output_lst.append(lst2[i2])\n",
        "            i2 = i2 + 1\n",
        "```\n",
        "\n",
        "\n",
        "**Loop Invariant** The loop invariant is the condition that is established during each iteration of the WHILE LOOP whenever the control reaches the loop head. For this algorithm the key loop invariants are\n",
        "  - `0 <= i1 <= n1` and `0 <= i2 <= n2`\n",
        "  - `output_lst` is the merge of the _sublists_ `lst1[0:i1]` and `lst2[0:i2]`.\n",
        "    - Note that in python `lst[0:j]` refers to all elements from 0 to j-1. In particular, this is the empty sublist of `j == 0`.\n",
        "  - If `output_lst` is non-empty and `i1 < n1`, then the last element of `output_lst` is less than or equal to `lst1[i1]`\n",
        "  - If `output_lst` is non-empty and `i2 < n2` then the last element of `output_lst` is less than or equal to `lst2[i2]`.\n",
        "  - `output_lst` is sorted in ascending order.\n",
        "\n",
        "**TODO # 1** Convince yourself that the loop invariants all hold at the very beginning when we initialize `i1, i2` and `output_lst` as follows:\n",
        "  - `i1 = i2 = 0`\n",
        "  - `output_lst = []`\n",
        "  \n",
        "  \n",
        "**TODO # 2** Convinuce yourself that if at the beginning of any loop iteration the invariant conditions hold, then it must hold after one further iteration.\n",
        "  - This is somewhat onerous but is a very useful exercise.\n",
        "\n",
        "\n",
        "Note that the while loop exits only when `i1 = n1` and `i2 = n2`. Therefore, the loop invariants imply that when the loop is done:\n",
        "  - `output_lst` is the merge of the lists `lst1` and `lst2`.\n",
        "  - `output_lst` is sorted in ascending order.\n",
        "  \n",
        "**Termination**\n",
        "\n",
        "Note that `i1` or `i2` must increase in each loop iteration and `i1` cannot exceed `n1` and `i2` cannot exceed `n2`. Thus, the loop cannot iterate forever."
      ],
      "metadata": {
        "id": "DH02MJKMpiC_"
      }
    },
    {
      "cell_type": "markdown",
      "source": [
        "#### Mergesort Algorithm\n",
        "\n",
        "We are now ready to code up the full mergesort algorithm. We will reimplement the merge algorithm as well."
      ],
      "metadata": {
        "id": "EAhSd7r_px6s"
      }
    },
    {
      "cell_type": "code",
      "source": [
        "# helper function to swap the elements at two positions in the list\n",
        "def swap(lst, i, j):\n",
        "    n = len(lst)\n",
        "    assert( i >= 0 and i < n)\n",
        "    assert( j >= 0 and j < n)\n",
        "    # We can use a simultaneous assignmment to swap\n",
        "    (lst[i], lst[j]) = (lst[j], lst[i])\n",
        "    return\n",
        "\n",
        "# this function copies the result of the merge back into the original list\n",
        "# Function: copy_back\n",
        "# output_lst is the list that contains right - left + 1 elements.\n",
        "# lst is the list we need to copy into\n",
        "# left and right are indices into list.\n",
        "# TODO: copy elements from output_lst into lst[left:right+1]\n",
        "# Note that python range left:right+1 includes indices from left,..., right.\n",
        "\n",
        "def copy_back(output_lst, lst, left, right):\n",
        "    # Ensure that the output has the right length for us to copy back\n",
        "    assert(len(output_lst) == right - left + 1)\n",
        "    for i in range(left, right+1):\n",
        "        lst[i] = output_lst[i - left]\n",
        "    return\n",
        "\n",
        "#Function: mergeHelper\n",
        "# merge elements from lst[left:mid+1]  and lst[mid+1:right+1]\n",
        "# create a temporary output list to hold the merged result and\n",
        "# copy that back using the copy_back function.\n",
        "# This was lst is modified in place.\n",
        "def mergeHelper(lst, left, mid, right):\n",
        "    # Perform a merge on sublists lst[left:mid+1] and lst[mid+1:right+1]\n",
        "    # This is the same algorithm as merge above but we will need to copy\n",
        "    # things back to the original list.\n",
        "    if left > mid or mid > right:  # one of the two sublists is empty\n",
        "        return\n",
        "    i1 = left\n",
        "    i2 = mid + 1\n",
        "    output_lst = []\n",
        "    while (i1 <= mid or i2 <= right):\n",
        "        if (i1 <= mid and i2 <= right):\n",
        "            if lst[i1] <= lst[i2]:\n",
        "                output_lst.append(lst[i1])\n",
        "                i1 = i1 + 1\n",
        "            else:\n",
        "                output_lst.append(lst[i2])\n",
        "                i2 = i2 + 1\n",
        "        elif i1 <= mid:\n",
        "            output_lst.append(lst[i1])\n",
        "            i1 = i1 + 1\n",
        "        else:\n",
        "            output_lst.append(lst[i2])\n",
        "            i2 = i2 + 1\n",
        "    copy_back(output_lst, lst, left, right)\n",
        "    return\n",
        "# Function: mergeSortHelper\n",
        "# recursive implementation of mergesort.\n",
        "def mergesortHelper(lst, left, right):\n",
        "    if (left == right): # Region to sort is just a singleton\n",
        "        return\n",
        "    elif (left + 1 == right): # region to sort has two elements\n",
        "        if (lst[left] > lst[right]): # compare\n",
        "            swap(lst, left, right)   # and swap if needed\n",
        "    else:\n",
        "        mid = (left + right ) // 2  # compute mid point.\n",
        "        # Note that // is integer division in python3.\n",
        "        mergesortHelper(lst, left, mid) # Sort left half recursively\n",
        "        mergesortHelper(lst, mid + 1 , right) # Sort right half recursively\n",
        "        mergeHelper(lst, left, mid, right) # merge them together.\n",
        "\n",
        "# Function mergesort\n",
        "#   Sort the list in place and modify it so that\n",
        "#   lst is sorted when the function returns.\n",
        "def mergesort(lst):\n",
        "    if len(lst) <= 1:\n",
        "        return # nothing to do\n",
        "    else:\n",
        "        mergesortHelper(lst, 0, len(lst)-1)"
      ],
      "metadata": {
        "id": "94IeJoT3n3EF"
      },
      "execution_count": null,
      "outputs": []
    },
    {
      "cell_type": "code",
      "source": [
        "# Let us run a few test cases\n",
        "\n",
        "lst = [0, 5, 6, 2, 19, -1, 2, 3, 0, 4, 5, 8]\n",
        "mergesort(lst)\n",
        "print(lst)\n",
        "\n",
        "lst1 = [0, 1, 2, 6, 18, 19, -20, -45, -23, 25, 56, 19, 81, 123, 122]\n",
        "mergesort(lst1)\n",
        "print(lst1)\n",
        "\n",
        "lst2 = [4,3,2,1]\n",
        "mergesort(lst2)\n",
        "print(lst2)\n",
        "\n",
        "lst4 = [1]\n",
        "mergesort(lst4)\n",
        "print(lst4)\n",
        "\n",
        "lst5 = []\n",
        "mergesort(lst5)\n",
        "print(lst5)"
      ],
      "metadata": {
        "id": "oGo0DSShoDr2",
        "outputId": "e1826a15-e5a3-4fc1-9664-1a47621f7d57",
        "colab": {
          "base_uri": "https://localhost:8080/"
        }
      },
      "execution_count": null,
      "outputs": [
        {
          "output_type": "stream",
          "name": "stdout",
          "text": [
            "[-1, 0, 0, 2, 2, 3, 4, 5, 5, 6, 8, 19]\n",
            "[-45, -23, -20, 0, 1, 2, 6, 18, 19, 19, 25, 56, 81, 122, 123]\n",
            "[1, 2, 3, 4]\n",
            "[1]\n",
            "[]\n"
          ]
        }
      ]
    },
    {
      "cell_type": "markdown",
      "source": [
        "#### Correctness of Mergesort\n",
        "\n",
        "```python\n",
        "def mergesortHelper(lst, left, right):\n",
        "    if (left == right): # Region to sort is just a singleton\n",
        "        return\n",
        "    elif (left + 1 == right): # region to sort has two elements\n",
        "        if (lst[left] > lst[right]): # compare\n",
        "            swap(lst, left, right)   # and swap if needed\n",
        "    else:\n",
        "        mid = (left + right ) // 2  # compute mid point\n",
        "        mergesortHelper(lst, left, mid) # Sort left half\n",
        "        mergesortHelper(lst, mid + 1 , right) # Sort right half\n",
        "        mergeHelper(lst, left, mid, right) # merge them together.\n",
        "```\n",
        "\n",
        "We establish the following properties whenever we call the function mergesortHelper with arguments lst, left, right.\n",
        "\n",
        "* 0 <= left <= right < len(lst).\n",
        "We have to assume that mergeHelper correctly merges the two sorted sublists lst[left:mid+1] and lst[mid+1:right+1] resulting in a sorted and merged sublist lst[left:right+1].\n",
        "\n",
        "We can then prove by induction that when mergesortHelper exits the sublist lst[left:right+1] is sorted. Recall the sublist notation from above.\n",
        "\n",
        "* Base Cases : left == right. The sublist is trivially sorted.\n",
        "    * left +1 == right: The sublist has two elements and we note by inspecting the code that by comparing lst[left], lst[right] and swapping them, the algorithm ensures that lst[left:right+1] is sorted.\n",
        "* Induction: Let k = right - left + 1 be the size of the region we are asked to sort. Assume that mergesortHelper correctly sorts whenever the sorting region has size strictly less than k. Therefore, after we have the calls to sort the left half and right half, we ensure that the two sublists lst[left:mid+1] and lst[mid+1:right+1] are themselves sorted. Finally, we appeal to the correctness of mergeHelper method and note that the entire sublist lst[left:right+1] ends up sorted when we exit the mergesort procedure.\n",
        "\n",
        "### Running Time Complexity of Mergesort\n",
        "\n",
        "This analysis was provided as part of the lecture. We noted that\n",
        "the running time complexity of mergesort was $\\Theta(n \\log(n))$ for an input list of size $n$."
      ],
      "metadata": {
        "id": "zieEuJY9oSkf"
      }
    },
    {
      "cell_type": "markdown",
      "source": [
        "## 2. Searching"
      ],
      "metadata": {
        "id": "ln29XHwzeAzZ"
      }
    },
    {
      "cell_type": "markdown",
      "source": [
        "### 2.1 Binary Search"
      ],
      "metadata": {
        "id": "jQYZhTjjbCwi"
      }
    },
    {
      "cell_type": "code",
      "source": [
        "# binary search - only works on sorted arrays\n",
        "\n",
        "def binary_search(lst, elt):\n",
        "\t  return BinarySearchHelper(lst, elt, 0, len(lst) - 1)\n",
        "\n",
        "def BinarySearchHelper (lst, elt, left, right):\n",
        "    '''\n",
        "    Recursively performs a binary search for `elt` within a sorted list `lst`.\n",
        "\n",
        "    Parameters:\n",
        "        lst (list): The sorted list to search in.\n",
        "        elt (any): The element to search for.\n",
        "        left (int): The starting index of the current search range.\n",
        "        right (int): The ending index of the current search range.\n",
        "\n",
        "    Returns:\n",
        "        int: The index of `elt` in `lst` if found.\n",
        "        None: If `elt` is not present in `lst`.\n",
        "\n",
        "    Preconditions:\n",
        "        - 0 <= left <= right <= len(lst) - 1\n",
        "        - lst must be sorted in ascending order.\n",
        "        - If `elt` exists in `lst`, it must be within the sublist lst[left:right+1].\n",
        "\n",
        "    Invariant:\n",
        "        The search range is always reduced in size with each recursive call.\n",
        "    '''\n",
        "    if left > right:\n",
        "        return None \t# search region empty\n",
        "\n",
        "    else:\n",
        "\n",
        "        mid = (left + right) // 2\n",
        "\n",
        "        if lst[mid] == elt:\n",
        "            return mid \t# eltfound\n",
        "\n",
        "        elif lst[mid] < elt:\n",
        "            return BinarySearchHelper(lst, elt, mid + 1, right) \t# search right half\n",
        "\n",
        "        else:\n",
        "            return BinarySearchHelper(lst, elt, left, mid - 1)"
      ],
      "metadata": {
        "id": "AsCLAdRvF2c-"
      },
      "execution_count": null,
      "outputs": []
    },
    {
      "cell_type": "code",
      "source": [
        "A = [10,-2, 18, -27, 101, 198, 13, 2]\n",
        "\n",
        "insertion_sort(A)\n",
        "\n",
        "print(A)"
      ],
      "metadata": {
        "id": "xXwGSeqmqHZr",
        "outputId": "d6cfed3e-2f2f-418d-fc5f-91b85d225ffb",
        "colab": {
          "base_uri": "https://localhost:8080/"
        }
      },
      "execution_count": null,
      "outputs": [
        {
          "output_type": "stream",
          "name": "stdout",
          "text": [
            "[-27, -2, 2, 10, 13, 18, 101, 198]\n"
          ]
        }
      ]
    },
    {
      "cell_type": "code",
      "source": [
        "elt = -2\n",
        "\n",
        "binary_search(A, elt)"
      ],
      "metadata": {
        "colab": {
          "base_uri": "https://localhost:8080/"
        },
        "id": "MQcWSb0PWaM3",
        "outputId": "ab9edf07-3c1b-4b97-9700-430ab2290e33"
      },
      "execution_count": null,
      "outputs": [
        {
          "output_type": "execute_result",
          "data": {
            "text/plain": [
              "1"
            ]
          },
          "metadata": {},
          "execution_count": 28
        }
      ]
    },
    {
      "cell_type": "markdown",
      "source": [
        "## 3. Indexing"
      ],
      "metadata": {
        "id": "eipuVhdUeKtS"
      }
    },
    {
      "cell_type": "markdown",
      "source": [
        "### 3.1 Find Crossover Index"
      ],
      "metadata": {
        "id": "j-4SYPdabRdO"
      }
    },
    {
      "cell_type": "code",
      "source": [
        "# a more production-safe version using raise ValurError() checks instead of assertions\n",
        "def findCrossoverIndex(arr1, arr2):\n",
        "    '''\n",
        "    Finds a crossover index i in the arrays such that:\n",
        "        arr1[i] > arr2[i] and arr1[i+1] <= arr2[i+1].\n",
        "\n",
        "    The arrays must be strictly increasing and satisfy:\n",
        "        - arr1[0] > arr2[0]\n",
        "        - arr1[-1] < arr2[-1]\n",
        "    This guarantees that a crossover point exists.\n",
        "\n",
        "    Parameters:\n",
        "        arr1: list of float or int\n",
        "            Sorted list in strictly increasing order.\n",
        "        arr2: list of float or int\n",
        "            Sorted list in strictly increasing order.\n",
        "\n",
        "    Returns:\n",
        "        int: An index i where the crossover occurs.\n",
        "\n",
        "    Raises:\n",
        "        ValueError: If arrays are invalid or constraints not met.\n",
        "    '''\n",
        "    if len(arr1) != len(arr2):\n",
        "        raise ValueError(\"arr1 and arr2 must have the same length.\")\n",
        "    if arr1[0] <= arr2[0]:\n",
        "        raise ValueError(\"arr1[0] must be greater than arr2[0].\")\n",
        "    if arr1[-1] >= arr2[-1]:\n",
        "        raise ValueError(\"arr1[-1] must be less than arr2[-1].\")\n",
        "    if len(arr1) < 2:\n",
        "        raise ValueError(\"Arrays must contain at least two elements.\")\n",
        "\n",
        "    return findCrossoverIndexHelper(arr1, arr2, 0, len(arr1) - 1)\n",
        "\n",
        "def findCrossoverIndexHelper(arr1, arr2, left, right):\n",
        "    '''\n",
        "    Recursively find a crossover index i in the range [left, right-1] such that:\n",
        "        arr1[i] > arr2[i] and arr1[i+1] <= arr2[i+1].\n",
        "\n",
        "    Parameters:\n",
        "        arr1: list of float or int\n",
        "            Sorted list in strictly increasing order.\n",
        "        arr2: list of float or int\n",
        "            Sorted list in strictly increasing order.\n",
        "        left: int\n",
        "            Left bound (inclusive) of the search region.\n",
        "        right: int\n",
        "            Right bound (inclusive) of the search region.\n",
        "\n",
        "    Returns:\n",
        "        int: An index i where the crossover occurs.\n",
        "\n",
        "    Raises:\n",
        "        ValueError: If arr1 and arr2 do not have the same length or do not satisfy problem constraints.\n",
        "\n",
        "    IndexError:\n",
        "        If left/right bounds are invalid.\n",
        "    '''\n",
        "    if len(arr1) != len(arr2):\n",
        "        raise ValueError(\"arr1 and arr2 must have the same length.\")\n",
        "    if not (0 <= left < right < len(arr1)):\n",
        "        raise IndexError(\"Invalid search bounds.\")\n",
        "    if arr1[left] <= arr2[left]:\n",
        "        raise ValueError(f\"Expected arr1[{left}] > arr2[{left}], got {arr1[left]} <= {arr2[left]}.\")\n",
        "    if arr1[right] >= arr2[right]:\n",
        "        raise ValueError(f\"Expected arr1[{right}] < arr2[{right}], got {arr1[right]} >= {arr2[right]}.\")\n",
        "\n",
        "    mid = (left + right) // 2\n",
        "    if mid + 1 >= len(arr1):\n",
        "        raise IndexError(\"mid+1 is out of range — check input arrays.\")\n",
        "\n",
        "    # Check if current mid is the crossover point\n",
        "    if arr1[mid] > arr2[mid] and arr1[mid + 1] <= arr2[mid + 1]:\n",
        "        return mid\n",
        "    elif arr1[mid] > arr2[mid]:\n",
        "        return findCrossoverIndexHelper(arr1, arr2, mid + 1, right)\n",
        "    else:\n",
        "        return findCrossoverIndexHelper(arr1, arr2, left, mid - 1)\n",
        "\n",
        "\n"
      ],
      "metadata": {
        "id": "3TSBJCfOfcZ2"
      },
      "execution_count": null,
      "outputs": []
    },
    {
      "cell_type": "code",
      "source": [],
      "metadata": {
        "id": "Yi7GiYGjHOn3"
      },
      "execution_count": null,
      "outputs": []
    },
    {
      "cell_type": "code",
      "source": [
        "x = [10, 15, 20, 25, 30]\n",
        "y = [0, 10, 20, 30, 40]\n",
        "\n",
        "findCrossoverIndex(x, y)"
      ],
      "metadata": {
        "colab": {
          "base_uri": "https://localhost:8080/",
          "height": 321
        },
        "id": "ePf-qkE5ldj0",
        "outputId": "f9365d60-9685-43de-8373-511da32f8e33"
      },
      "execution_count": null,
      "outputs": [
        {
          "output_type": "error",
          "ename": "ValueError",
          "evalue": "Expected arr1[1] < arr2[1], got 15 >= 10.",
          "traceback": [
            "\u001b[0;31m---------------------------------------------------------------------------\u001b[0m",
            "\u001b[0;31mValueError\u001b[0m                                Traceback (most recent call last)",
            "\u001b[0;32m/tmp/ipython-input-3710377804.py\u001b[0m in \u001b[0;36m<cell line: 0>\u001b[0;34m()\u001b[0m\n\u001b[1;32m      2\u001b[0m \u001b[0my\u001b[0m \u001b[0;34m=\u001b[0m \u001b[0;34m[\u001b[0m\u001b[0;36m0\u001b[0m\u001b[0;34m,\u001b[0m \u001b[0;36m10\u001b[0m\u001b[0;34m,\u001b[0m \u001b[0;36m20\u001b[0m\u001b[0;34m,\u001b[0m \u001b[0;36m30\u001b[0m\u001b[0;34m,\u001b[0m \u001b[0;36m40\u001b[0m\u001b[0;34m]\u001b[0m\u001b[0;34m\u001b[0m\u001b[0;34m\u001b[0m\u001b[0m\n\u001b[1;32m      3\u001b[0m \u001b[0;34m\u001b[0m\u001b[0m\n\u001b[0;32m----> 4\u001b[0;31m \u001b[0mfindCrossoverIndex\u001b[0m\u001b[0;34m(\u001b[0m\u001b[0mx\u001b[0m\u001b[0;34m,\u001b[0m \u001b[0my\u001b[0m\u001b[0;34m)\u001b[0m\u001b[0;34m\u001b[0m\u001b[0;34m\u001b[0m\u001b[0m\n\u001b[0m",
            "\u001b[0;32m/tmp/ipython-input-3901679472.py\u001b[0m in \u001b[0;36mfindCrossoverIndex\u001b[0;34m(arr1, arr2)\u001b[0m\n\u001b[1;32m     36\u001b[0m         \u001b[0;32mraise\u001b[0m \u001b[0mValueError\u001b[0m\u001b[0;34m(\u001b[0m\u001b[0;34m\"Arrays must contain at least two elements.\"\u001b[0m\u001b[0;34m)\u001b[0m\u001b[0;34m\u001b[0m\u001b[0;34m\u001b[0m\u001b[0m\n\u001b[1;32m     37\u001b[0m \u001b[0;34m\u001b[0m\u001b[0m\n\u001b[0;32m---> 38\u001b[0;31m     \u001b[0;32mreturn\u001b[0m \u001b[0mfindCrossoverIndexHelper\u001b[0m\u001b[0;34m(\u001b[0m\u001b[0marr1\u001b[0m\u001b[0;34m,\u001b[0m \u001b[0marr2\u001b[0m\u001b[0;34m,\u001b[0m \u001b[0;36m0\u001b[0m\u001b[0;34m,\u001b[0m \u001b[0mlen\u001b[0m\u001b[0;34m(\u001b[0m\u001b[0marr1\u001b[0m\u001b[0;34m)\u001b[0m \u001b[0;34m-\u001b[0m \u001b[0;36m1\u001b[0m\u001b[0;34m)\u001b[0m\u001b[0;34m\u001b[0m\u001b[0;34m\u001b[0m\u001b[0m\n\u001b[0m\u001b[1;32m     39\u001b[0m \u001b[0;34m\u001b[0m\u001b[0m\n\u001b[1;32m     40\u001b[0m \u001b[0;32mdef\u001b[0m \u001b[0mfindCrossoverIndexHelper\u001b[0m\u001b[0;34m(\u001b[0m\u001b[0marr1\u001b[0m\u001b[0;34m,\u001b[0m \u001b[0marr2\u001b[0m\u001b[0;34m,\u001b[0m \u001b[0mleft\u001b[0m\u001b[0;34m,\u001b[0m \u001b[0mright\u001b[0m\u001b[0;34m)\u001b[0m\u001b[0;34m:\u001b[0m\u001b[0;34m\u001b[0m\u001b[0;34m\u001b[0m\u001b[0m\n",
            "\u001b[0;32m/tmp/ipython-input-3901679472.py\u001b[0m in \u001b[0;36mfindCrossoverIndexHelper\u001b[0;34m(arr1, arr2, left, right)\u001b[0m\n\u001b[1;32m     81\u001b[0m         \u001b[0;32mreturn\u001b[0m \u001b[0mfindCrossoverIndexHelper\u001b[0m\u001b[0;34m(\u001b[0m\u001b[0marr1\u001b[0m\u001b[0;34m,\u001b[0m \u001b[0marr2\u001b[0m\u001b[0;34m,\u001b[0m \u001b[0mmid\u001b[0m \u001b[0;34m+\u001b[0m \u001b[0;36m1\u001b[0m\u001b[0;34m,\u001b[0m \u001b[0mright\u001b[0m\u001b[0;34m)\u001b[0m\u001b[0;34m\u001b[0m\u001b[0;34m\u001b[0m\u001b[0m\n\u001b[1;32m     82\u001b[0m     \u001b[0;32melse\u001b[0m\u001b[0;34m:\u001b[0m\u001b[0;34m\u001b[0m\u001b[0;34m\u001b[0m\u001b[0m\n\u001b[0;32m---> 83\u001b[0;31m         \u001b[0;32mreturn\u001b[0m \u001b[0mfindCrossoverIndexHelper\u001b[0m\u001b[0;34m(\u001b[0m\u001b[0marr1\u001b[0m\u001b[0;34m,\u001b[0m \u001b[0marr2\u001b[0m\u001b[0;34m,\u001b[0m \u001b[0mleft\u001b[0m\u001b[0;34m,\u001b[0m \u001b[0mmid\u001b[0m \u001b[0;34m-\u001b[0m \u001b[0;36m1\u001b[0m\u001b[0;34m)\u001b[0m\u001b[0;34m\u001b[0m\u001b[0;34m\u001b[0m\u001b[0m\n\u001b[0m\u001b[1;32m     84\u001b[0m \u001b[0;34m\u001b[0m\u001b[0m\n\u001b[1;32m     85\u001b[0m \u001b[0;34m\u001b[0m\u001b[0m\n",
            "\u001b[0;32m/tmp/ipython-input-3901679472.py\u001b[0m in \u001b[0;36mfindCrossoverIndexHelper\u001b[0;34m(arr1, arr2, left, right)\u001b[0m\n\u001b[1;32m     69\u001b[0m         \u001b[0;32mraise\u001b[0m \u001b[0mValueError\u001b[0m\u001b[0;34m(\u001b[0m\u001b[0;34mf\"Expected arr1[{left}] > arr2[{left}], got {arr1[left]} <= {arr2[left]}.\"\u001b[0m\u001b[0;34m)\u001b[0m\u001b[0;34m\u001b[0m\u001b[0;34m\u001b[0m\u001b[0m\n\u001b[1;32m     70\u001b[0m     \u001b[0;32mif\u001b[0m \u001b[0marr1\u001b[0m\u001b[0;34m[\u001b[0m\u001b[0mright\u001b[0m\u001b[0;34m]\u001b[0m \u001b[0;34m>=\u001b[0m \u001b[0marr2\u001b[0m\u001b[0;34m[\u001b[0m\u001b[0mright\u001b[0m\u001b[0;34m]\u001b[0m\u001b[0;34m:\u001b[0m\u001b[0;34m\u001b[0m\u001b[0;34m\u001b[0m\u001b[0m\n\u001b[0;32m---> 71\u001b[0;31m         \u001b[0;32mraise\u001b[0m \u001b[0mValueError\u001b[0m\u001b[0;34m(\u001b[0m\u001b[0;34mf\"Expected arr1[{right}] < arr2[{right}], got {arr1[right]} >= {arr2[right]}.\"\u001b[0m\u001b[0;34m)\u001b[0m\u001b[0;34m\u001b[0m\u001b[0;34m\u001b[0m\u001b[0m\n\u001b[0m\u001b[1;32m     72\u001b[0m \u001b[0;34m\u001b[0m\u001b[0m\n\u001b[1;32m     73\u001b[0m     \u001b[0mmid\u001b[0m \u001b[0;34m=\u001b[0m \u001b[0;34m(\u001b[0m\u001b[0mleft\u001b[0m \u001b[0;34m+\u001b[0m \u001b[0mright\u001b[0m\u001b[0;34m)\u001b[0m \u001b[0;34m//\u001b[0m \u001b[0;36m2\u001b[0m\u001b[0;34m\u001b[0m\u001b[0;34m\u001b[0m\u001b[0m\n",
            "\u001b[0;31mValueError\u001b[0m: Expected arr1[1] < arr2[1], got 15 >= 10."
          ]
        }
      ]
    },
    {
      "cell_type": "markdown",
      "source": [
        "### 3.2 Cube root integer"
      ],
      "metadata": {
        "id": "PwTSnDg1mY4x"
      }
    },
    {
      "cell_type": "code",
      "source": [
        "# Write down the main function\n",
        "def integerCubeRoot(n):\n",
        "    assert( n > 0)\n",
        "    if (n == 1):\n",
        "        return 1\n",
        "    if (n == 2):\n",
        "        return 1\n",
        "    return integerCubeRootHelper(n, 0, n-1)\n",
        "\n",
        "def integerCubeRootHelper(n, left, right):\n",
        "    cube = lambda x: x * x * x\n",
        "    assert(n >= 1)\n",
        "    assert(left < right)\n",
        "    assert(left >= 0)\n",
        "    #assert(right > n)\n",
        "    assert(cube(left) < n), f'{left}, {right}'\n",
        "    assert(cube(right) > n), f'{left}, {right}'\n",
        "\n",
        "    # your code here\n",
        "\n",
        "    mid = (left + right) // 2\n",
        "\n",
        "    # check if mid is int cube root\n",
        "    if cube(mid) <= n and cube(mid + 1) > n:\n",
        "        return mid\n",
        "\n",
        "    elif cube(mid) > n:\n",
        "        return integerCubeRootHelper(n, left, mid)\n",
        "\n",
        "    else:\n",
        "        return integerCubeRootHelper(n, mid, right)"
      ],
      "metadata": {
        "id": "Ti2TjrmsmRPr"
      },
      "execution_count": null,
      "outputs": []
    },
    {
      "cell_type": "code",
      "source": [
        "assert(integerCubeRoot(1) == 1)\n",
        "assert(integerCubeRoot(2) == 1)\n",
        "assert(integerCubeRoot(4) == 1)\n",
        "assert(integerCubeRoot(7) == 1)\n",
        "assert(integerCubeRoot(8) == 2)\n",
        "assert(integerCubeRoot(20) == 2)\n",
        "assert(integerCubeRoot(26) == 2)\n",
        "for j in range(27, 64):\n",
        "    assert(integerCubeRoot(j) == 3)\n",
        "for j in range(64,125):\n",
        "    assert(integerCubeRoot(j) == 4)\n",
        "for j in range(125, 216):\n",
        "    assert(integerCubeRoot(j) == 5)\n",
        "for j in range(216, 343):\n",
        "    assert(integerCubeRoot(j) == 6)\n",
        "for j in range(343, 512):\n",
        "    assert(integerCubeRoot(j) == 7)\n",
        "print('Congrats: All tests passed! (10 points)')"
      ],
      "metadata": {
        "colab": {
          "base_uri": "https://localhost:8080/"
        },
        "id": "b_ffyZMlmh_K",
        "outputId": "4d450839-0750-499e-c66a-e5744127b5fb"
      },
      "execution_count": null,
      "outputs": [
        {
          "output_type": "stream",
          "name": "stdout",
          "text": [
            "Congrats: All tests passed! (10 points)\n"
          ]
        }
      ]
    },
    {
      "cell_type": "markdown",
      "source": [
        "## 4. Data Structures"
      ],
      "metadata": {
        "id": "S15IKEfNpSRu"
      }
    },
    {
      "cell_type": "markdown",
      "source": [
        "### 4.1 Dynamic arrays\n",
        "\n",
        "#### Dynamic Arrays: A Simple Data Structure\n",
        "\n",
        "These notes will supplement section 17.4 of CLRS book, which covers a lot more than this chapter.\n",
        "\n",
        "\n",
        "A dynamic array is simply an array but it can grow in size to accomodate new elements that are added.\n",
        "\n",
        "#### Arrays\n",
        "\n",
        "An array is a \"contiguous chunk\" of random access memory in a computer.  \n",
        "  - Random Access: We can access the individual cells of the array as `a[1]`, `a[2]`, ..., `a[n]`, where  $n$ is the size of the array.\n",
        "  - Reading or writing to the memory element at index `j`  takes $O(1)$ time.\n",
        "  \n",
        "Our goal is to maintain an array of $n$ elements and support the following operations:\n",
        "  - Reading/Writing to a particular index $j$ where $1 \\leq j \\leq n$.\n",
        "  - Adding a new element at the end of the array: the size of the array will become $n+1$ as a result.\n",
        "  \n",
        "  \n",
        "#### Memory Allocator\n",
        "\n",
        "The main difficulty in implementing an array data structure lies in how a process in a computer obtains memory. In all computer operating systems there is a memory management module that allocates memory to running programs. Programs can request a \"contiguous chunk\" of $k$ memory cells using an \"allocation\" function. This function is setup differently in various programming languages. For instance, in python, we can allocate an array of size `k` all initialized with $0$s as follows:\n",
        "\n",
        "~~~\n",
        "a = [0]* k\n",
        "~~~\n",
        "\n",
        "Note however, that lists in python are already a \"dynamic array\" implemented more or less in the same manner that we are going to describe here.\n",
        "\n",
        "https://stackoverflow.com/questions/3917574/how-is-pythons-list-implemented\n",
        "\n",
        "The curious reader may ask about \"deallocation\" or \"freeing\" memory. We note that\n",
        "in some programming environments like C/C++ this is required for the program to explicitly tell the operating system that a particular chunk of memory that was previously allocated is no longer needed. However, python is a _garbage collected_ language. I.e, the python runtime manages memory and decides that a chunk of memory is no longer needed/can be freed. The details of garbage collection are beyond the scope of this course."
      ],
      "metadata": {
        "id": "qyoSrbMhpXi_"
      }
    },
    {
      "cell_type": "code",
      "source": [
        "# Allocate a new memory of size `size`\n",
        "def allocateMemory(size):\n",
        "    assert size >= 1\n",
        "    return [0]*size\n",
        "\n",
        "# Copy the contents of old list into new\n",
        "def copyInto(old, new):\n",
        "    assert len(old) <= len(new), 'Not enough space to copy into'\n",
        "    m = len(old)\n",
        "    for i in range(m):\n",
        "        new[i] = old[i]"
      ],
      "metadata": {
        "id": "9RuODZQXpWyh"
      },
      "execution_count": null,
      "outputs": []
    },
    {
      "cell_type": "markdown",
      "source": [
        "We will now implement the `DynamicArray` data structure as a Python class.\n",
        "It will have three fields:\n",
        "  - `array`: the overall memory that has been allocated.\n",
        "  - `allocated_size`: How much is the allocated size?\n",
        "  - `size`: what is the actual size of the array?\n",
        "  \n",
        "Note that `allocated_size` is always larger than the actual size. For instance,\n",
        "`allocated_size=32` means that `32` cells have been allocated. However, `size=10` means that only 10 out of the 32 cells are used by the array."
      ],
      "metadata": {
        "id": "5uTAeNDKp6Vp"
      }
    },
    {
      "cell_type": "code",
      "source": [
        "class DynamicArray:\n",
        "\n",
        "    def __init__(self, initial_size=16, initial_fill=0, debug=False):\n",
        "        self.allocated_size = initial_size\n",
        "        self.size = 0\n",
        "        self.array = [initial_fill] * initial_size\n",
        "        self.debug = debug\n",
        "\n",
        "    # This allows us to directly access d[idx]\n",
        "    def __getitem__(self, idx):\n",
        "        assert idx >= 0 and idx < self.size\n",
        "        return self.array[idx]\n",
        "\n",
        "    # This allows us to write d[idx] = val\n",
        "    def __setitem__(self, idx, val):\n",
        "        assert idx >= 0 and idx < self.size\n",
        "        self.array[idx] = val\n",
        "\n",
        "    def append(self, x):\n",
        "        # Do we have enough allocated size to just append x to the array?\n",
        "        if self.size >= self.allocated_size:\n",
        "            if self.debug:\n",
        "                print(f'Ran out of memory: old allocated size: {self.allocated_size}, new allocated size is {2*self.allocated_size}')\n",
        "            # No, we have run out of pre-allocated memory\n",
        "            # Double the size of the array\n",
        "            # Double the size of the allocated memory\n",
        "            self.allocated_size = 2 * self.allocated_size\n",
        "            old_array = self.array\n",
        "            # allocate and copy.\n",
        "            new_array = allocateMemory(self.allocated_size)\n",
        "            copyInto(old_array, new_array)\n",
        "            # update the array.\n",
        "            self.array = new_array\n",
        "        # Append the element to the end\n",
        "        self.array[self.size] = x\n",
        "        # Update its size.\n",
        "        self.size = self.size + 1"
      ],
      "metadata": {
        "id": "mWqNke-Wp7JU"
      },
      "execution_count": null,
      "outputs": []
    },
    {
      "cell_type": "code",
      "source": [
        "l = DynamicArray(initial_size=1, initial_fill=0, debug=True)\n",
        "for j in range(1000):\n",
        "    l.append(j)\n",
        "print(f'l[5] = {l[5]}')\n",
        "l[0] = 30\n",
        "print(f'l[0] = {l[0]}')\n"
      ],
      "metadata": {
        "id": "FShxgn9Cp_c9",
        "outputId": "634301db-02c7-4b9c-f1b7-1153baf991ce",
        "colab": {
          "base_uri": "https://localhost:8080/"
        }
      },
      "execution_count": null,
      "outputs": [
        {
          "output_type": "stream",
          "name": "stdout",
          "text": [
            "Ran out of memory: old allocated size: 1, new allocated size is 2\n",
            "Ran out of memory: old allocated size: 2, new allocated size is 4\n",
            "Ran out of memory: old allocated size: 4, new allocated size is 8\n",
            "Ran out of memory: old allocated size: 8, new allocated size is 16\n",
            "Ran out of memory: old allocated size: 16, new allocated size is 32\n",
            "Ran out of memory: old allocated size: 32, new allocated size is 64\n",
            "Ran out of memory: old allocated size: 64, new allocated size is 128\n",
            "Ran out of memory: old allocated size: 128, new allocated size is 256\n",
            "Ran out of memory: old allocated size: 256, new allocated size is 512\n",
            "Ran out of memory: old allocated size: 512, new allocated size is 1024\n",
            "l[5] = 5\n",
            "l[0] = 30\n"
          ]
        }
      ]
    },
    {
      "cell_type": "markdown",
      "source": [
        "### 4.2 Heap operations\n"
      ],
      "metadata": {
        "id": "n9yh8A6G4ZaG"
      }
    },
    {
      "cell_type": "markdown",
      "source": [
        "#### 4.2.1 Min-Heap"
      ],
      "metadata": {
        "id": "85_ycdJb5BPE"
      }
    },
    {
      "cell_type": "code",
      "source": [
        "# First let us complete a minheap data structure.\n",
        "# Please complete missing parts below.\n",
        "\n",
        "class MinHeap:\n",
        "    def __init__(self):\n",
        "        self.H = [None]\n",
        "\n",
        "    def size(self):\n",
        "        return len(self.H)-1\n",
        "\n",
        "    def __repr__(self):\n",
        "        return str(self.H[1:])\n",
        "\n",
        "    def satisfies_assertions(self):\n",
        "        for i in range(2, len(self.H)):\n",
        "            assert self.H[i] >= self.H[i//2],  f'Min heap property fails at position {i//2}, parent elt: {self.H[i//2]}, child elt: {self.H[i]}'\n",
        "\n",
        "    def min_element(self):\n",
        "        return self.H[1]\n",
        "\n",
        "    ## bubble_up function at index\n",
        "    ## WARNING: this function has been cut and paste for the next problem as well\n",
        "    def bubble_up(self, index):\n",
        "        assert index >= 1\n",
        "        if index == 1:\n",
        "            return\n",
        "        parent_index = index // 2\n",
        "        if self.H[parent_index] < self.H[index]:\n",
        "            return\n",
        "        else:\n",
        "            self.H[parent_index], self.H[index] = self.H[index], self.H[parent_index]\n",
        "            self.bubble_up(parent_index)\n",
        "\n",
        "    ## bubble_down function at index\n",
        "    ## WARNING: this function has been cut and paste for the next problem as well\n",
        "    def bubble_down(self, index):\n",
        "        assert index >= 1 and index < len(self.H)\n",
        "        lchild_index = 2 * index\n",
        "        rchild_index = 2 * index + 1\n",
        "        # set up the value of left child to the element at that index if valid, or else make it +Infinity\n",
        "        lchild_value = self.H[lchild_index] if lchild_index < len(self.H) else float('inf')\n",
        "        # set up the value of right child to the element at that index if valid, or else make it +Infinity\n",
        "        rchild_value = self.H[rchild_index] if rchild_index < len(self.H) else float('inf')\n",
        "        # If the value at the index is lessthan or equal to the minimum of two children, then nothing else to do\n",
        "        if self.H[index] <= min(lchild_value, rchild_value):\n",
        "            return\n",
        "        # Otherwise, find the index and value of the smaller of the two children.\n",
        "        else:\n",
        "            # A useful python trick is to compare\n",
        "            min_child_value, min_child_index = min ((lchild_value, lchild_index), (rchild_value, rchild_index))\n",
        "            # Swap the current index with the least of its two children\n",
        "            self.H[index], self.H[min_child_index] = self.H[min_child_index], self.H[index]\n",
        "            # Bubble down on the minimum child index\n",
        "            self.bubble_down(min_child_index)\n",
        "\n",
        "\n",
        "    # Function: heap_insert\n",
        "    # Insert elt into heap\n",
        "    # Use bubble_up/bubble_down function\n",
        "    def insert(self, elt):\n",
        "        # your code here\n",
        "        self.H.append(elt)\n",
        "        self.bubble_up(len(self.H) - 1)\n",
        "\n",
        "\n",
        "    # Function: heap_delete_min\n",
        "    # delete the smallest element in the heap. Use bubble_up/bubble_down\n",
        "    def delete_min(self):\n",
        "        # your code here\n",
        "        # assert heap is not empty\n",
        "        assert self.size() > 0\n",
        "\n",
        "        min_val = self.H[1]\n",
        "\n",
        "        # swap root and last elt\n",
        "        self.H[1], self.H[len(self.H) - 1] = self.H[len(self.H) - 1], self.H[1]\n",
        "\n",
        "        # remove old root\n",
        "        self.H.pop()\n",
        "\n",
        "        # bubble down root\n",
        "        if self.size() > 0:\n",
        "            self.bubble_down(1)\n",
        "\n",
        "        return min_val"
      ],
      "metadata": {
        "id": "NXtwnOIV4Ydd"
      },
      "execution_count": null,
      "outputs": []
    },
    {
      "cell_type": "code",
      "source": [
        "class MinHeap:\n",
        "    '''\n",
        "    A MinHeap implementation using a binary heap stored in a Python list.\n",
        "\n",
        "    Attributes:\n",
        "\n",
        "        H: list\n",
        "            The underlying list for the heap, where index 0 is unused for simpler\n",
        "            parent-child arithmetic.\n",
        "\n",
        "    '''\n",
        "    def __init__(self):\n",
        "        ''' Initialize empty MinHeap '''\n",
        "        self.H = [None]\n",
        "\n",
        "\n",
        "    def size(self):\n",
        "        '''\n",
        "        Get the number of elements in the heap\n",
        "\n",
        "        Returns:\n",
        "            Int: Number of elements currently in the heap\n",
        "\n",
        "        '''\n",
        "        return len(self.H) - 1\n",
        "\n",
        "    def __repr__(self):\n",
        "        '''\n",
        "        Return a string representation of the heap\n",
        "\n",
        "        Returns:\n",
        "            str: A string containing the elements of the heap in level order\n",
        "\n",
        "        '''\n",
        "        return str(self.H[1:])\n",
        "\n",
        "    def satisfies_assertions(self):\n",
        "        '''\n",
        "        Verify that the heap satisfies the min-heap property\n",
        "\n",
        "        Raises:\n",
        "            AssertionError: If any parent node is greater than a child node\n",
        "\n",
        "        '''\n",
        "        for i in range(2, len(self.H)):\n",
        "            assert self.H[i] >= self.H[i //2], (\n",
        "                f'Min heap property fails at parent index {i//2},'\n",
        "                f'parent value: {self.H[i//2]}, child value: {self.H[i]}'\n",
        "            )\n",
        "\n",
        "    def min_element(self):\n",
        "        '''\n",
        "        Get the minimum element (root) of the heap\n",
        "\n",
        "        Returns:\n",
        "            Any: the minimum element in the heap\n",
        "\n",
        "        Raises:\n",
        "            AssertionError: If the heap is empty\n",
        "\n",
        "        '''\n",
        "\n",
        "        assert self.size() > 0, 'heap is empty'\n",
        "\n",
        "        return self.H[1]\n",
        "\n",
        "    def bubble_up(self, index):\n",
        "        '''\n",
        "        Restore the heap property by bubbling up from a given index\n",
        "\n",
        "        Parameters:\n",
        "            index: int\n",
        "                The index of the element to bubble up\n",
        "\n",
        "        '''\n",
        "\n",
        "        assert index >= 1\n",
        "\n",
        "        if index == 1:\n",
        "            return\n",
        "\n",
        "        parent_index = index // 2\n",
        "\n",
        "        if self.H[parent_index] > self.H[index]:\n",
        "            self.H[parent_index], self.H[index] = self.H[index], self.H[parent_index]\n",
        "            self.bubble_up(parent_index)\n",
        "\n",
        "    def bubble_down(self, index):\n",
        "        '''\n",
        "        Restore the heap property by bubbling down from a given index\n",
        "\n",
        "        Parameters:\n",
        "            index: int\n",
        "                The index of the element to bubble down\n",
        "\n",
        "        '''\n",
        "\n",
        "        assert index >= 1 and index < len(self.H)\n",
        "\n",
        "        lchild_index, rchild_index = 2 * index, 2 * index + 1\n",
        "\n",
        "        lchild_value = self.H[lchild_index] if lchild_index < len(self.H) else float('inf')\n",
        "        rchild_value = self.H[rchild_index] if rchild_index < len(self.H) else float('inf')\n",
        "\n",
        "        if self.H[index] <= min(lchild_value, rchild_value):\n",
        "            return\n",
        "\n",
        "        min_child_value, min_child_index = min(\n",
        "            (lchild_value, lchild_index), (rchild_value, rchild_index)\n",
        "        )\n",
        "\n",
        "        self.H[index], self.H[min_child_index] = self.H[min_child_index], self.H[index]\n",
        "\n",
        "        self.bubble_down(min_child_index)\n",
        "\n",
        "    def insert(self, elt):\n",
        "        '''\n",
        "        Insert (append) an element into the heap and bubble up if necessary\n",
        "\n",
        "        Parameters:\n",
        "            elt: Any\n",
        "                The element to insert into the heap\n",
        "        '''\n",
        "\n",
        "        self.H.append(elt)\n",
        "        self.bubble_up(len(self.H) - 1)\n",
        "\n",
        "    def delete_min(self):\n",
        "        '''\n",
        "\n",
        "        Remove and return the smallest element from the heap\n",
        "\n",
        "        Returns:\n",
        "\n",
        "            Any: The minimum element that was removed from the heap\n",
        "\n",
        "        Raises:\n",
        "            AssertionError: if the heap is empty\n",
        "\n",
        "            '''\n",
        "\n",
        "        assert self.size() > 0, 'heap is empty'\n",
        "\n",
        "        min_val = self.H[1]\n",
        "\n",
        "        self.H[1], self.H[-1] = self.H[-1], self.H[1]\n",
        "        self.H.pop()\n",
        "\n",
        "        if self.size() > 0:\n",
        "            self.bubble_down(1)\n",
        "\n",
        "        return min_val"
      ],
      "metadata": {
        "id": "_DMgUJfgwbRv"
      },
      "execution_count": null,
      "outputs": []
    },
    {
      "cell_type": "code",
      "source": [
        "h = MinHeap()\n",
        "print('Inserting: 5, 2, 4, -1 and 7 in that order.')\n",
        "h.insert(5)\n",
        "print(f'\\t Heap = {h}')\n",
        "assert(h.min_element() == 5)\n",
        "h.insert(2)\n",
        "print(f'\\t Heap = {h}')\n",
        "assert(h.min_element() == 2)\n",
        "h.insert(4)\n",
        "print(f'\\t Heap = {h}')\n",
        "assert(h.min_element() == 2)\n",
        "h.insert(-1)\n",
        "print(f'\\t Heap = {h}')\n",
        "assert(h.min_element() == -1)\n",
        "h.insert(7)\n",
        "print(f'\\t Heap = {h}')\n",
        "assert(h.min_element() == -1)\n",
        "h.satisfies_assertions()\n",
        "\n",
        "print('Deleting minimum element')\n",
        "h.delete_min()\n",
        "print(f'\\t Heap = {h}')\n",
        "assert(h.min_element() == 2)\n",
        "h.delete_min()\n",
        "print(f'\\t Heap = {h}')\n",
        "assert(h.min_element() == 4)\n",
        "h.delete_min()\n",
        "print(f'\\t Heap = {h}')\n",
        "assert(h.min_element() == 5)\n",
        "h.delete_min()\n",
        "print(f'\\t Heap = {h}')\n",
        "assert(h.min_element() == 7)\n",
        "# Test delete_max on heap of size 1, should result in empty heap.\n",
        "h.delete_min()\n",
        "print(f'\\t Heap = {h}')\n",
        "print('All tests passed: 10 points!')"
      ],
      "metadata": {
        "colab": {
          "base_uri": "https://localhost:8080/"
        },
        "id": "Yb-GV_S6_fnr",
        "outputId": "6e82fdf0-b846-4d98-8fb4-c8c05896cc1b"
      },
      "execution_count": null,
      "outputs": [
        {
          "output_type": "stream",
          "name": "stdout",
          "text": [
            "Inserting: 5, 2, 4, -1 and 7 in that order.\n",
            "\t Heap = [5]\n",
            "\t Heap = [2, 5]\n",
            "\t Heap = [2, 5, 4]\n",
            "\t Heap = [-1, 2, 4, 5]\n",
            "\t Heap = [-1, 2, 4, 5, 7]\n",
            "Deleting minimum element\n",
            "\t Heap = [2, 5, 4, 7]\n",
            "\t Heap = [4, 5, 7]\n",
            "\t Heap = [5, 7]\n",
            "\t Heap = [7]\n",
            "\t Heap = []\n",
            "All tests passed: 10 points!\n"
          ]
        }
      ]
    },
    {
      "cell_type": "code",
      "source": [
        "class TopKHeap:\n",
        "    '''\n",
        "    Data structure to maintain the top-k smallest elements using:\n",
        "        - A sorted array A for the smallest k elements\n",
        "        - A min-heap H for the remaining elements\n",
        "\n",
        "    Attributes:\n",
        "\n",
        "        k: int\n",
        "            Max number of elements to track in A\n",
        "\n",
        "        A: list\n",
        "            Sorted list holding up to k smallest elements\n",
        "\n",
        "        H: MinHeap\n",
        "            MinHeap storing all elements larger than those in A\n",
        "    '''\n",
        "\n",
        "    def __init__(self, k):\n",
        "        '''\n",
        "        Initialize the TopKHeap with capacity k\n",
        "\n",
        "        Parameters:\n",
        "\n",
        "            k: int\n",
        "                The number of smallest elements to maintain\n",
        "        '''\n",
        "\n",
        "        self.k = k\n",
        "        self.A = []\n",
        "        self.H = MinHeap()\n",
        "\n",
        "    def size(self):\n",
        "        '''\n",
        "        Get the total number of elements in the data structure\n",
        "\n",
        "        Returns:\n",
        "\n",
        "            int: Total number of elements in A and H combined\n",
        "        '''\n",
        "        return len(self.A) + (self.H.size())\n",
        "\n",
        "    def satisfies_assertions(self):\n",
        "        '''\n",
        "        Verify structural invariants:\n",
        "            - A is sorted\n",
        "            - H satisfies min-heap property\n",
        "            - Every element in A is <= min element of H (if H is non-empty)\n",
        "\n",
        "        Raises:\n",
        "            AssertionError: if any of the invariants are violated\n",
        "        '''\n",
        "\n",
        "        for i in range(len(self.A) - 1):\n",
        "            assert self.A[i] <= self.A[i + 1], (\n",
        "                f'A is not sorted at index{i}: {self.A[i]}, {self.A[i + 1]}'\n",
        "            )\n",
        "\n",
        "        self.H.satisfies_assertions()\n",
        "\n",
        "        if self.H.size() > 0:\n",
        "            for idx, a in enumerate(self.A):\n",
        "                assert a <= self.H.min_element(), (\n",
        "                    f'A[{idx}] = {a} > min heap element {self.H.min_element()}'\n",
        "                )\n",
        "\n",
        "    def insert_into_A(self, elt):\n",
        "        '''\n",
        "        Insert an element into the sorted array A,\n",
        "        displacing the largest element if necessary\n",
        "\n",
        "        Parameters:\n",
        "\n",
        "            elt: Any\n",
        "                The element to insert\n",
        "        Returns:\n",
        "            Any or None\n",
        "                The displaced element if A exceeds size k, otherwise None.\n",
        "        '''\n",
        "\n",
        "        self.A.append(elt)\n",
        "        j = len(self.A) - 1\n",
        "\n",
        "        # insertion sort step to maintain order\n",
        "        while j >= 1 and self.A[j] < self.A[j - 1]:\n",
        "            self.A[j], self.A[j - 1] = self.A[j - 1], self.A[j]\n",
        "            j -=1\n",
        "\n",
        "        if len(self.A) > self.k:\n",
        "            return self.A.pop()\n",
        "\n",
        "        return None\n",
        "\n",
        "    def insert(self, elt):\n",
        "        '''\n",
        "        Insert an element into the TopKHeap\n",
        "\n",
        "        Parameters:\n",
        "            elt: Any\n",
        "                The element to insert\n",
        "        '''\n",
        "        if len(self.A) < self.k:\n",
        "            self.insert_into_A(elt)\n",
        "            return\n",
        "        if elt <= self.A[-1]: # belongs in A\n",
        "            displaced = self.insert_into_A(elt)\n",
        "\n",
        "            if displaced is not None:\n",
        "                self.H.insert(displaced)\n",
        "\n",
        "        else:\n",
        "            self.H.insert(elt)\n",
        "\n",
        "    def delete_top_k(self, j):\n",
        "        '''\n",
        "        Delete the j^th smallest element (0-indexed) from A,\n",
        "        and replenish from H if available\n",
        "\n",
        "        Parameters:\n",
        "\n",
        "            j: int\n",
        "                Index of the element to delete (0 = smallest, up to k-1)\n",
        "\n",
        "        Raises:\n",
        "            AssertionError: if j is out of bounds\n",
        "        '''\n",
        "\n",
        "        assert 0 <= j < self.k, f'j must be in [0, {self.k - 1}]'\n",
        "\n",
        "        removed = self.A.pop(j)\n",
        "\n",
        "        if self.H.size() > 0:\n",
        "            moved = self.H.delete_min()\n",
        "            self.insert_into_A(moved)\n",
        "\n",
        "        return removed"
      ],
      "metadata": {
        "id": "1mZ2bk1E5PQA"
      },
      "execution_count": null,
      "outputs": []
    },
    {
      "cell_type": "code",
      "source": [
        "h = TopKHeap(5)\n",
        "# Force the array A\n",
        "h.A = [-10, -9, -8, -4, 0]\n",
        "# Force the heap to this heap\n",
        "[h.H.insert(elt) for elt in  [1, 4, 5, 6, 15, 22, 31, 7]]\n",
        "\n",
        "print('Initial data structure: ')\n",
        "print('\\t A = ', h.A)\n",
        "print('\\t H = ', h.H)\n",
        "\n",
        "# Insert an element -2\n",
        "print('Test 1: Inserting element -2')\n",
        "h.insert(-2)\n",
        "print('\\t A = ', h.A)\n",
        "print('\\t H = ', h.H)\n",
        "# After insertion h.A should be [-10, -9, -8, -4, -2]\n",
        "# After insertion h.H should be [None, 0, 1, 5, 4, 15, 22, 31, 7, 6]\n",
        "assert h.A == [-10,-9,-8,-4,-2]\n",
        "assert h.H.min_element() == 0 , 'Minimum element of the heap is no longer 0'\n",
        "h.satisfies_assertions()\n",
        "\n",
        "print('Test2: Inserting element -11')\n",
        "h.insert(-11)\n",
        "print('\\t A = ', h.A)\n",
        "print('\\t H = ', h.H)\n",
        "assert h.A == [-11, -10, -9, -8, -4]\n",
        "assert h.H.min_element() == -2\n",
        "h.satisfies_assertions()\n",
        "\n",
        "print('Test 3 delete_top_k(3)')\n",
        "h.delete_top_k(3)\n",
        "print('\\t A = ', h.A)\n",
        "print('\\t H = ', h.H)\n",
        "h.satisfies_assertions()\n",
        "assert h.A == [-11,-10,-9,-4,-2]\n",
        "assert h.H.min_element() == 0\n",
        "h.satisfies_assertions()\n",
        "\n",
        "print('Test 4 delete_top_k(4)')\n",
        "h.delete_top_k(4)\n",
        "print('\\t A = ', h.A)\n",
        "print('\\t H = ', h.H)\n",
        "assert h.A == [-11, -10, -9, -4, 0]\n",
        "h.satisfies_assertions()\n",
        "\n",
        "print('Test 5 delete_top_k(0)')\n",
        "h.delete_top_k(0)\n",
        "print('\\t A = ', h.A)\n",
        "print('\\t H = ', h.H)\n",
        "assert h.A == [-10, -9, -4, 0, 1]\n",
        "h.satisfies_assertions()\n",
        "\n",
        "print('Test 6 delete_top_k(1)')\n",
        "h.delete_top_k(1)\n",
        "print('\\t A = ', h.A)\n",
        "print('\\t H = ', h.H)\n",
        "assert h.A == [-10, -4, 0, 1, 4]\n",
        "h.satisfies_assertions()\n",
        "print('All tests passed - 15 points!')\n"
      ],
      "metadata": {
        "colab": {
          "base_uri": "https://localhost:8080/"
        },
        "id": "i4fydKPTAfTs",
        "outputId": "e89bab68-3462-4922-fb66-a1ffa4f0f379"
      },
      "execution_count": null,
      "outputs": [
        {
          "output_type": "stream",
          "name": "stdout",
          "text": [
            "Initial data structure: \n",
            "\t A =  [-10, -9, -8, -4, 0]\n",
            "\t H =  [1, 4, 5, 6, 15, 22, 31, 7]\n",
            "Test 1: Inserting element -2\n",
            "\t A =  [-10, -9, -8, -4, -2]\n",
            "\t H =  [0, 1, 5, 4, 15, 22, 31, 7, 6]\n",
            "Test2: Inserting element -11\n",
            "\t A =  [-11, -10, -9, -8, -4]\n",
            "\t H =  [-2, 0, 5, 4, 1, 22, 31, 7, 6, 15]\n",
            "Test 3 delete_top_k(3)\n",
            "\t A =  [-11, -10, -9, -4, -2]\n",
            "\t H =  [0, 1, 5, 4, 15, 22, 31, 7, 6]\n",
            "Test 4 delete_top_k(4)\n",
            "\t A =  [-11, -10, -9, -4, 0]\n",
            "\t H =  [1, 4, 5, 6, 15, 22, 31, 7]\n",
            "Test 5 delete_top_k(0)\n",
            "\t A =  [-10, -9, -4, 0, 1]\n",
            "\t H =  [4, 6, 5, 7, 15, 22, 31]\n",
            "Test 6 delete_top_k(1)\n",
            "\t A =  [-10, -4, 0, 1, 4]\n",
            "\t H =  [5, 6, 22, 7, 15, 31]\n",
            "All tests passed - 15 points!\n"
          ]
        }
      ]
    },
    {
      "cell_type": "code",
      "source": [
        "class MaxHeap:\n",
        "    '''\n",
        "    A MaxHeap implementation using a binary heap stored in a Python list\n",
        "\n",
        "    Attributes:\n",
        "\n",
        "        H: list\n",
        "            Internal list to hold heap elements, with index ) unused for\n",
        "            easier arithmetic\n",
        "    '''\n",
        "\n",
        "    def __init__(self):\n",
        "        '''\n",
        "        Initialize an empty MaxHeap\n",
        "        '''\n",
        "        self.H = [None]\n",
        "\n",
        "    def size(self):\n",
        "        '''\n",
        "        Get the number of elements in the heap\n",
        "\n",
        "        Returns:\n",
        "\n",
        "            int: Number of elements currently in the heap\n",
        "        '''\n",
        "\n",
        "        return len(self.H) - 1\n",
        "\n",
        "    def __repr__(self):\n",
        "        '''\n",
        "        Return a string representation of the heap\n",
        "\n",
        "        Returns:\n",
        "            str: A string containing the elements of the heap in level order\n",
        "        '''\n",
        "        return str(self.H[1:])\n",
        "\n",
        "    def satistfies_assertions(self):\n",
        "        '''\n",
        "        Verify that the heap satisfies the max-heap property\n",
        "\n",
        "        Raises:\n",
        "            AssertionError: if any parent node is smaller than a child node\n",
        "        '''\n",
        "\n",
        "        for i in range(2, len(self.H)):\n",
        "            assert self.H[i] < self.H[i // 2], (\n",
        "                f'max heap property fails at parent index {i//2}, '\n",
        "                f'parent = {self.H[i//2]}, child = {self.H[i]}'\n",
        "            )\n",
        "\n",
        "    def max_element(self):\n",
        "        '''\n",
        "        Get the maximum element (the root) of the heap\n",
        "\n",
        "        Returns:\n",
        "            Any: The max element in the heap\n",
        "\n",
        "        Raises:\n",
        "            AssertionError: if the heap is empty\n",
        "        '''\n",
        "        assert self.size() > 0, 'heap is empty'\n",
        "        return self.H[1]\n",
        "\n",
        "    def bubble_up(self, index):\n",
        "        '''\n",
        "        Restore the heap property by bubbling up from a given index.\n",
        "\n",
        "        Parameters\n",
        "        ----------\n",
        "        index : int\n",
        "            The index of the element to bubble up.\n",
        "        '''\n",
        "        assert index >= 1\n",
        "        if index == 1:\n",
        "            return\n",
        "        parent_index = index // 2\n",
        "        if self.H[parent_index] < self.H[index]:\n",
        "            self.H[parent_index], self.H[index] = self.H[index], self.H[parent_index]\n",
        "            self.bubble_up(parent_index)\n",
        "\n",
        "    def bubble_down(self, index):\n",
        "        \"\"\"\n",
        "        Restore the heap property by bubbling down from a given index.\n",
        "\n",
        "        Parameters\n",
        "        ----------\n",
        "        index : int\n",
        "            The index of the element to bubble down.\n",
        "        \"\"\"\n",
        "        assert 1 <= index < len(self.H)\n",
        "        lchild_index, rchild_index = 2 * index, 2 * index + 1\n",
        "        lchild_value = self.H[lchild_index] if lchild_index < len(self.H) else float(\"-inf\")\n",
        "        rchild_value = self.H[rchild_index] if rchild_index < len(self.H) else float(\"-inf\")\n",
        "\n",
        "        if self.H[index] >= max(lchild_value, rchild_value):\n",
        "            return\n",
        "\n",
        "        max_child_index = lchild_index if lchild_value > rchild_value else rchild_index\n",
        "        self.H[index], self.H[max_child_index] = self.H[max_child_index], self.H[index]\n",
        "        self.bubble_down(max_child_index)\n",
        "\n",
        "    def insert(self, elt):\n",
        "        '''\n",
        "        Insert an element into the heap.\n",
        "\n",
        "        Parameters\n",
        "        ----------\n",
        "        elt : Any\n",
        "            The element to insert into the heap.\n",
        "        '''\n",
        "        self.H.append(elt)\n",
        "        self.bubble_up(len(self.H) - 1)\n",
        "\n",
        "    def delete_max(self):\n",
        "        '''\n",
        "        Remove and return the maximum element from the heap.\n",
        "\n",
        "        Returns:\n",
        "            Any\n",
        "            The maximum element that was removed from the heap.\n",
        "\n",
        "        Raises:\n",
        "            AssertionError\n",
        "                If the heap is empty.\n",
        "        '''\n",
        "        assert self.size() > 0, \"Heap is empty\"\n",
        "        max_val = self.H[1]\n",
        "        self.H[1], self.H[-1] = self.H[-1], self.H[1]\n",
        "        self.H.pop()\n",
        "        if self.size() > 0:\n",
        "            self.bubble_down(1)\n",
        "        return max_val"
      ],
      "metadata": {
        "id": "Is2arJPCBHVg"
      },
      "execution_count": null,
      "outputs": []
    },
    {
      "cell_type": "code",
      "source": [
        "def insertion_sort(arr):\n",
        "    for j in range(1, len(arr)):\n",
        "        key = arr[j]\n",
        "        i = j - 1\n",
        "\n",
        "        while i >= 0 and arr[i] > key:\n",
        "            arr[i+1] = arr[i]\n",
        "            i -= 1\n",
        "\n",
        "            arr[i+1] = key"
      ],
      "metadata": {
        "id": "yw93iPvyCBO6"
      },
      "execution_count": null,
      "outputs": []
    },
    {
      "cell_type": "code",
      "source": [
        "A = [8,6,7,5,3,0,9]\n",
        "\n",
        "insertion_sort(A)\n",
        "\n",
        "print(A)"
      ],
      "metadata": {
        "colab": {
          "base_uri": "https://localhost:8080/"
        },
        "id": "y-VQt0b_CbwH",
        "outputId": "433ec803-1611-4154-d211-37d5db1f0111"
      },
      "execution_count": null,
      "outputs": [
        {
          "output_type": "stream",
          "name": "stdout",
          "text": [
            "[0, 3, 5, 6, 7, 8, 9]\n"
          ]
        }
      ]
    },
    {
      "cell_type": "code",
      "source": [
        "def binary_search(lst, elt):\n",
        "    return binary_search_helper(lst, elt, 0, len(lst)-1)\n",
        "\n",
        "def binary_search_helper(lst, elt, left, right):\n",
        "    # not in lst\n",
        "    if left > right:\n",
        "        return None\n",
        "\n",
        "    # is in lst, need to search\n",
        "    else:\n",
        "\n",
        "        # def mid\n",
        "        mid = (left + right)//2\n",
        "\n",
        "        # found at mid\n",
        "        if lst[mid] == elt:\n",
        "            return mid\n",
        "\n",
        "        # mid > elt, search left half\n",
        "        elif lst[mid] > elt:\n",
        "            return binary_search_helper(lst, elt, left, mid-1)\n",
        "\n",
        "        # mid < elt, search right half\n",
        "        else:\n",
        "            return binary_search_helper(lst, elt, mid+1, right)"
      ],
      "metadata": {
        "id": "JeJyDP2oClMP"
      },
      "execution_count": null,
      "outputs": []
    },
    {
      "cell_type": "code",
      "source": [
        "binary_search(A, 9)"
      ],
      "metadata": {
        "colab": {
          "base_uri": "https://localhost:8080/"
        },
        "id": "KIiJ8vljGkf2",
        "outputId": "2506fd72-be4c-48ed-e0f0-d0964bd9259d"
      },
      "execution_count": null,
      "outputs": [
        {
          "output_type": "execute_result",
          "data": {
            "text/plain": [
              "6"
            ]
          },
          "metadata": {},
          "execution_count": 8
        }
      ]
    },
    {
      "cell_type": "code",
      "source": [
        "def insertion_sort(arr):\n",
        "    for j in range(1, len(arr)):\n",
        "        key = arr[j]\n",
        "        i = j - 1\n",
        "\n",
        "        while i >= 0 and arr[i]>key:\n",
        "            arr[i+1] = arr[i]\n",
        "            i -= 1\n",
        "        arr[i+1] = key"
      ],
      "metadata": {
        "id": "8o2vFd4P8Obf"
      },
      "execution_count": 26,
      "outputs": []
    },
    {
      "cell_type": "code",
      "source": [
        "A = [8,6,7,5,3,0,9]\n",
        "\n",
        "insertion_sort(A)\n",
        "\n",
        "print(A)"
      ],
      "metadata": {
        "id": "thfIDNWF8OYW",
        "outputId": "adf59a56-f24f-4a79-c3fb-e51314c6a527",
        "colab": {
          "base_uri": "https://localhost:8080/"
        }
      },
      "execution_count": 27,
      "outputs": [
        {
          "output_type": "stream",
          "name": "stdout",
          "text": [
            "[0, 3, 5, 6, 7, 8, 9]\n"
          ]
        }
      ]
    },
    {
      "cell_type": "code",
      "source": [
        "def binary_search(lst, elt):\n",
        "    return binary_search_helper(lst, elt, 0, len(lst)-1)\n",
        "\n",
        "def binary_search_helper(lst, elt, left, right):\n",
        "    # not in list\n",
        "    if left > right:\n",
        "        return None\n",
        "\n",
        "    # is in list, need to search\n",
        "    else:\n",
        "\n",
        "        # set mid\n",
        "        mid = (left + right) // 2\n",
        "\n",
        "        # found at mid\n",
        "        if lst[mid] == elt:\n",
        "            return mid\n",
        "\n",
        "        # mid > elt\n",
        "        elif lst[mid] > elt:\n",
        "            return binary_search_helper(lst, elt, left, mid-1)\n",
        "\n",
        "        # mid < elt\n",
        "        else:\n",
        "            return binary_search_helper(lst, elt, mid + 1, right)"
      ],
      "metadata": {
        "id": "A2OZLNvS8OUx"
      },
      "execution_count": null,
      "outputs": []
    },
    {
      "cell_type": "code",
      "source": [
        "binary_search(A, 5)"
      ],
      "metadata": {
        "id": "GSkqSiTl8ORg",
        "outputId": "a1d363af-626c-46d4-deee-85085115878d",
        "colab": {
          "base_uri": "https://localhost:8080/"
        }
      },
      "execution_count": null,
      "outputs": [
        {
          "output_type": "execute_result",
          "data": {
            "text/plain": [
              "2"
            ]
          },
          "metadata": {},
          "execution_count": 12
        }
      ]
    },
    {
      "cell_type": "code",
      "source": [
        "def merge_sort(arr):\n",
        "    # base case len 1\n",
        "    if len(arr) <= 1:\n",
        "        return arr\n",
        "\n",
        "    # split arr, recursion on halves\n",
        "    mid = len(arr) // 2\n",
        "    left_half = merge_sort(arr[:mid])\n",
        "    right_half = merge_sort(arr[mid:])\n",
        "    # merge sorted halves\n",
        "    return merge(left_half, right_half)\n",
        "\n",
        "def merge(left, right):\n",
        "    # results list\n",
        "    merged = []\n",
        "    i = j = 0\n",
        "\n",
        "    # have 2 lists to merge\n",
        "    while i < len(left) and j < len(right):\n",
        "        # merged smaller of two\n",
        "        if left[i] < right[j]:\n",
        "            merged.append(left[i])\n",
        "            i += 1\n",
        "\n",
        "        else:\n",
        "            merged.append(right[j])\n",
        "            j += 1\n",
        "\n",
        "    # only 1 list left to merge\n",
        "    merged.extend(left[i:])\n",
        "    merged.extend(right[j:])\n",
        "\n",
        "    return merged"
      ],
      "metadata": {
        "id": "-5qPTazf2B6S"
      },
      "execution_count": null,
      "outputs": []
    },
    {
      "cell_type": "code",
      "source": [
        "def merge_sort(arr):\n",
        "    # base case len 1\n",
        "    if len(arr) <= 1:\n",
        "        return arr\n",
        "\n",
        "    # split in halves, recursion\n",
        "    mid = len(arr) // 2\n",
        "\n",
        "    left_half = merge_sort(arr[:mid])\n",
        "    right_half = merge_sort(arr[mid:])\n",
        "\n",
        "    return merge(left_half, right_half)\n",
        "\n",
        "def merge(left, right):\n",
        "    # results list\n",
        "    merged = []\n",
        "    i = j = 0\n",
        "\n",
        "    # have two lists to merge\n",
        "    while i < len(left) and j < len(right):\n",
        "        # merge smaller of 2 elt\n",
        "        if left[i] < right[j]:\n",
        "            merged.append(left[i])\n",
        "            i += 1\n",
        "        else:\n",
        "            merged.append(right[j])\n",
        "            j += 1\n",
        "\n",
        "    # have one list to merge\n",
        "    merged.extend(left[i:])\n",
        "    merged.extend(right[j:])\n",
        "\n",
        "    return merged"
      ],
      "metadata": {
        "id": "1ZykIR42OZr2"
      },
      "execution_count": 14,
      "outputs": []
    },
    {
      "cell_type": "code",
      "source": [
        "def merge_sort(arr):\n",
        "    # base case len 1\n",
        "    if len(arr) <= 1:\n",
        "        return arr\n",
        "\n",
        "    # split array, recursion\n",
        "    else:\n",
        "        mid = len(arr) // 2\n",
        "        left_half = merge_sort(arr[:mid])\n",
        "        right_half = merge_sort(arr[mid:])\n",
        "\n",
        "    # merge sorted halves\n",
        "\n",
        "    return merge(left_half, right_half)\n",
        "\n",
        "def merge(left, right):\n",
        "    # results list\n",
        "    merged = []\n",
        "    i = j = 0\n",
        "\n",
        "    # while have 2 lists to merge\n",
        "    while i < len(left) and j < len(right):\n",
        "        if left[i] < right[j]:\n",
        "            merged.append(left[i])\n",
        "            i += 1\n",
        "        else:\n",
        "            merged.append(right[j])\n",
        "            j += 1\n",
        "\n",
        "    # only one list to merge\n",
        "    merged.extend(left[i:])\n",
        "    merged.extend(right[j:])\n",
        "\n",
        "\n",
        "    return merged"
      ],
      "metadata": {
        "id": "5LCfZZFkR9pP"
      },
      "execution_count": 19,
      "outputs": []
    },
    {
      "cell_type": "code",
      "source": [
        "\n",
        "def merge_sort(arr):\n",
        "    # base case\n",
        "    if len(arr) <= 1:\n",
        "        return arr\n",
        "\n",
        "    # split halves, recursion\n",
        "    mid = len(arr) // 2\n",
        "    left_half = merge_sort(arr[:mid])\n",
        "    right_half = merge_sort(arr[mid:])\n",
        "\n",
        "    # merge halves\n",
        "    return merge(left_half, right_half)\n",
        "\n",
        "def merge(left, right):\n",
        "    # results\n",
        "    merged = []\n",
        "    i = j = 0\n",
        "\n",
        "    # while 2 lists to merge\n",
        "    while i < len(left) and j < len(right):\n",
        "        if left[i] < right[j]:\n",
        "            merged.append(left[i])\n",
        "            i += 1\n",
        "        else:\n",
        "            merged.append(right[j])\n",
        "            j += 1\n",
        "\n",
        "    # only 1 list to merge\n",
        "    merged.extend(left[i:])\n",
        "    merged.extend(right[j:])\n",
        "\n",
        "    return merged"
      ],
      "metadata": {
        "id": "G4-ttovZTopQ"
      },
      "execution_count": 26,
      "outputs": []
    },
    {
      "cell_type": "code",
      "source": [
        "A = [8,6,7,5,3,0,9]\n",
        "\n",
        "A = merge_sort(A)\n",
        "\n",
        "print(A)"
      ],
      "metadata": {
        "id": "Ggt8g_BfQfBs",
        "outputId": "e3132f53-6ef5-4505-8242-94cc5edc1915",
        "colab": {
          "base_uri": "https://localhost:8080/"
        }
      },
      "execution_count": 27,
      "outputs": [
        {
          "output_type": "stream",
          "name": "stdout",
          "text": [
            "[0, 3, 5, 6, 7, 8, 9]\n"
          ]
        }
      ]
    }
  ]
}