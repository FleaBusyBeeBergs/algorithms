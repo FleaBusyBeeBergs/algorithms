{
  "nbformat": 4,
  "nbformat_minor": 0,
  "metadata": {
    "colab": {
      "provenance": [],
      "generative_ai_disabled": true,
      "authorship_tag": "ABX9TyOMw+nOPLCtxMRYoJALP5RB",
      "include_colab_link": true
    },
    "kernelspec": {
      "name": "python3",
      "display_name": "Python 3"
    },
    "language_info": {
      "name": "python"
    }
  },
  "cells": [
    {
      "cell_type": "markdown",
      "metadata": {
        "id": "view-in-github",
        "colab_type": "text"
      },
      "source": [
        "<a href=\"https://colab.research.google.com/github/FleaBusyBeeBergs/algorithms/blob/main/algorithms_practice.ipynb\" target=\"_parent\"><img src=\"https://colab.research.google.com/assets/colab-badge.svg\" alt=\"Open In Colab\"/></a>"
      ]
    },
    {
      "cell_type": "markdown",
      "source": [
        "# Algorithms practice"
      ],
      "metadata": {
        "id": "31Yt_wYWFYIg"
      }
    },
    {
      "cell_type": "markdown",
      "source": [
        "## 1. Sorting"
      ],
      "metadata": {
        "id": "RQ_UI1Xxd5Hx"
      }
    },
    {
      "cell_type": "markdown",
      "source": [
        "### 1.1 Insertion Sort"
      ],
      "metadata": {
        "id": "as84lcQya9TE"
      }
    },
    {
      "cell_type": "code",
      "execution_count": 4,
      "metadata": {
        "id": "mQZ2whqTFRC2"
      },
      "outputs": [],
      "source": [
        "# insertion sort ascending\n",
        "# to get descending, change condition to arr[i] < key\n",
        "\n",
        "def insertion_sort(arr):\n",
        "  '''\n",
        "  Sorts a list of comparable elements in ascending order using the insertion sort algorithm.\n",
        "\n",
        "  Parameters:\n",
        "        arr (list): The list of elements to be sorted. Elements must be comparable using '>'.\n",
        "\n",
        "  Returns:\n",
        "        None: The input list is sorted in place.\n",
        "\n",
        "  Algorithm:\n",
        "        - Iterates through the list starting from index 1.\n",
        "        - For each element (the 'key'), shifts all larger elements in the sorted portion of the list\n",
        "          one position to the right.\n",
        "        - Inserts the key into its correct sorted position.\n",
        "\n",
        "  Time Complexity:\n",
        "        - Best case (already sorted): O(n)\n",
        "        - Worst case (reverse sorted): O(n^2)\n",
        "        - Average case: O(n^2)\n",
        "\n",
        "  Space Complexity:\n",
        "        - O(1), since sorting is done in place.\n",
        "  '''\n",
        "\n",
        "def insertion_sort(arr):\n",
        "\tfor j in range(1, len(arr)):\n",
        "\t\tkey = arr[j]\n",
        "\t\ti = j - 1\n",
        "\n",
        "\t\twhile i >= 0 and arr[i] > key:\n",
        "\t\t\tarr[i + 1] = arr[i]\n",
        "\t\t\ti -= 1\n",
        "\n",
        "\t\tarr[i + 1] = key\n",
        "\n",
        "\n"
      ]
    },
    {
      "cell_type": "code",
      "source": [
        "A = [10,-2, 17, -27, 101, 8, 13, 2]\n",
        "\n",
        "insertion_sort(A)\n",
        "\n",
        "print(A)"
      ],
      "metadata": {
        "colab": {
          "base_uri": "https://localhost:8080/"
        },
        "id": "EwQXupN8HXd7",
        "outputId": "90e7af0b-f34d-43a2-de2e-bfed95bb7e84"
      },
      "execution_count": 5,
      "outputs": [
        {
          "output_type": "stream",
          "name": "stdout",
          "text": [
            "[-27, -2, 2, 8, 10, 13, 17, 101]\n"
          ]
        }
      ]
    },
    {
      "cell_type": "markdown",
      "source": [
        "## 2. Searching"
      ],
      "metadata": {
        "id": "ln29XHwzeAzZ"
      }
    },
    {
      "cell_type": "markdown",
      "source": [
        "### 2.1 Binary Search"
      ],
      "metadata": {
        "id": "jQYZhTjjbCwi"
      }
    },
    {
      "cell_type": "code",
      "source": [
        "# binary search - only works on sorted arrays\n",
        "\n",
        "def binary_search(lst, elt):\n",
        "\t  return BinarySearchHelper(lst, elt, 0, len(lst) - 1)\n",
        "\n",
        "def BinarySearchHelper (lst, elt, left, right):\n",
        "    '''\n",
        "    Recursively performs a binary search for `elt` within a sorted list `lst`.\n",
        "\n",
        "    Parameters:\n",
        "        lst (list): The sorted list to search in.\n",
        "        elt (any): The element to search for.\n",
        "        left (int): The starting index of the current search range.\n",
        "        right (int): The ending index of the current search range.\n",
        "\n",
        "    Returns:\n",
        "        int: The index of `elt` in `lst` if found.\n",
        "        None: If `elt` is not present in `lst`.\n",
        "\n",
        "    Preconditions:\n",
        "        - 0 <= left <= right <= len(lst) - 1\n",
        "        - lst must be sorted in ascending order.\n",
        "        - If `elt` exists in `lst`, it must be within the sublist lst[left:right+1].\n",
        "\n",
        "    Invariant:\n",
        "        The search range is always reduced in size with each recursive call.\n",
        "    '''\n",
        "    if lst[left] > lst[right]:\n",
        "        return None \t# search region empty\n",
        "\n",
        "    else:\n",
        "\n",
        "        mid = (left + right) // 2\n",
        "\n",
        "        if lst[mid] == elt:\n",
        "            return mid \t# eltfound\n",
        "\n",
        "        elif lst[mid] < elt:\n",
        "            return BinarySearchHelper(lst, elt, mid + 1, right) \t# search right half\n",
        "\n",
        "        else:\n",
        "            return BinarySearchHelper(lst, elt, left, mid - 1)"
      ],
      "metadata": {
        "id": "AsCLAdRvF2c-"
      },
      "execution_count": 41,
      "outputs": []
    },
    {
      "cell_type": "code",
      "source": [
        "print(A)"
      ],
      "metadata": {
        "id": "NI9NMIMRPm3w",
        "outputId": "453a1806-c91c-4b8b-dc4c-944e8ba0baa6",
        "colab": {
          "base_uri": "https://localhost:8080/"
        }
      },
      "execution_count": 42,
      "outputs": [
        {
          "output_type": "stream",
          "name": "stdout",
          "text": [
            "[-27, -2, 2, 8, 10, 13, 17, 101]\n"
          ]
        }
      ]
    },
    {
      "cell_type": "code",
      "source": [
        "elt = -2\n",
        "\n",
        "binary_search(A, elt)"
      ],
      "metadata": {
        "colab": {
          "base_uri": "https://localhost:8080/"
        },
        "id": "MQcWSb0PWaM3",
        "outputId": "1fd6154d-e968-40a0-812e-bce9290ed90a"
      },
      "execution_count": 47,
      "outputs": [
        {
          "output_type": "execute_result",
          "data": {
            "text/plain": [
              "1"
            ]
          },
          "metadata": {},
          "execution_count": 47
        }
      ]
    },
    {
      "cell_type": "markdown",
      "source": [
        "## 3. Indexing"
      ],
      "metadata": {
        "id": "eipuVhdUeKtS"
      }
    },
    {
      "cell_type": "markdown",
      "source": [
        "### 3.1 Find Crossover Index"
      ],
      "metadata": {
        "id": "j-4SYPdabRdO"
      }
    },
    {
      "cell_type": "code",
      "source": [
        "# a more production-safe version using raise ValurError() checks instead of assertions\n",
        "def findCrossoverIndex(arr1, arr2):\n",
        "    '''\n",
        "    Finds a crossover index i in the arrays such that:\n",
        "        arr1[i] > arr2[i] and arr1[i+1] <= arr2[i+1].\n",
        "\n",
        "    The arrays must be strictly increasing and satisfy:\n",
        "        - arr1[0] > arr2[0]\n",
        "        - arr1[-1] < arr2[-1]\n",
        "    This guarantees that a crossover point exists.\n",
        "\n",
        "    Parameters:\n",
        "        arr1: list of float or int\n",
        "            Sorted list in strictly increasing order.\n",
        "        arr2: list of float or int\n",
        "            Sorted list in strictly increasing order.\n",
        "\n",
        "    Returns:\n",
        "        int: An index i where the crossover occurs.\n",
        "\n",
        "    Raises:\n",
        "        ValueError: If arrays are invalid or constraints not met.\n",
        "    '''\n",
        "    if len(arr1) != len(arr2):\n",
        "        raise ValueError(\"arr1 and arr2 must have the same length.\")\n",
        "    if arr1[0] <= arr2[0]:\n",
        "        raise ValueError(\"arr1[0] must be greater than arr2[0].\")\n",
        "    if arr1[-1] >= arr2[-1]:\n",
        "        raise ValueError(\"arr1[-1] must be less than arr2[-1].\")\n",
        "    if len(arr1) < 2:\n",
        "        raise ValueError(\"Arrays must contain at least two elements.\")\n",
        "\n",
        "    return findCrossoverIndexHelper(arr1, arr2, 0, len(arr1) - 1)\n",
        "\n",
        "def findCrossoverIndexHelper(arr1, arr2, left, right):\n",
        "    '''\n",
        "    Recursively find a crossover index i in the range [left, right-1] such that:\n",
        "        arr1[i] > arr2[i] and arr1[i+1] <= arr2[i+1].\n",
        "\n",
        "    Parameters:\n",
        "        arr1: list of float or int\n",
        "            Sorted list in strictly increasing order.\n",
        "        arr2: list of float or int\n",
        "            Sorted list in strictly increasing order.\n",
        "        left: int\n",
        "            Left bound (inclusive) of the search region.\n",
        "        right: int\n",
        "            Right bound (inclusive) of the search region.\n",
        "\n",
        "    Returns:\n",
        "        int: An index i where the crossover occurs.\n",
        "\n",
        "    Raises:\n",
        "        ValueError: If arr1 and arr2 do not have the same length or do not satisfy problem constraints.\n",
        "\n",
        "    IndexError:\n",
        "        If left/right bounds are invalid.\n",
        "    '''\n",
        "    if len(arr1) != len(arr2):\n",
        "        raise ValueError(\"arr1 and arr2 must have the same length.\")\n",
        "    if not (0 <= left < right < len(arr1)):\n",
        "        raise IndexError(\"Invalid search bounds.\")\n",
        "    if arr1[left] <= arr2[left]:\n",
        "        raise ValueError(f\"Expected arr1[{left}] > arr2[{left}], got {arr1[left]} <= {arr2[left]}.\")\n",
        "    if arr1[right] >= arr2[right]:\n",
        "        raise ValueError(f\"Expected arr1[{right}] < arr2[{right}], got {arr1[right]} >= {arr2[right]}.\")\n",
        "\n",
        "    mid = (left + right) // 2\n",
        "    if mid + 1 >= len(arr1):\n",
        "        raise IndexError(\"mid+1 is out of range — check input arrays.\")\n",
        "\n",
        "    # Check if current mid is the crossover point\n",
        "    if arr1[mid] > arr2[mid] and arr1[mid + 1] <= arr2[mid + 1]:\n",
        "        return mid\n",
        "    elif arr1[mid] > arr2[mid]:\n",
        "        return findCrossoverIndexHelper(arr1, arr2, mid + 1, right)\n",
        "    else:\n",
        "        return findCrossoverIndexHelper(arr1, arr2, left, mid - 1)\n",
        "\n",
        "\n"
      ],
      "metadata": {
        "id": "3TSBJCfOfcZ2"
      },
      "execution_count": 58,
      "outputs": []
    },
    {
      "cell_type": "code",
      "source": [
        "x = [10, 15, 20, 25, 30]\n",
        "y = [0, 10, 20, 30, 40]\n",
        "\n",
        "findCrossoverIndex(x, y)"
      ],
      "metadata": {
        "id": "ePf-qkE5ldj0",
        "outputId": "f9365d60-9685-43de-8373-511da32f8e33",
        "colab": {
          "base_uri": "https://localhost:8080/",
          "height": 321
        }
      },
      "execution_count": 59,
      "outputs": [
        {
          "output_type": "error",
          "ename": "ValueError",
          "evalue": "Expected arr1[1] < arr2[1], got 15 >= 10.",
          "traceback": [
            "\u001b[0;31m---------------------------------------------------------------------------\u001b[0m",
            "\u001b[0;31mValueError\u001b[0m                                Traceback (most recent call last)",
            "\u001b[0;32m/tmp/ipython-input-3710377804.py\u001b[0m in \u001b[0;36m<cell line: 0>\u001b[0;34m()\u001b[0m\n\u001b[1;32m      2\u001b[0m \u001b[0my\u001b[0m \u001b[0;34m=\u001b[0m \u001b[0;34m[\u001b[0m\u001b[0;36m0\u001b[0m\u001b[0;34m,\u001b[0m \u001b[0;36m10\u001b[0m\u001b[0;34m,\u001b[0m \u001b[0;36m20\u001b[0m\u001b[0;34m,\u001b[0m \u001b[0;36m30\u001b[0m\u001b[0;34m,\u001b[0m \u001b[0;36m40\u001b[0m\u001b[0;34m]\u001b[0m\u001b[0;34m\u001b[0m\u001b[0;34m\u001b[0m\u001b[0m\n\u001b[1;32m      3\u001b[0m \u001b[0;34m\u001b[0m\u001b[0m\n\u001b[0;32m----> 4\u001b[0;31m \u001b[0mfindCrossoverIndex\u001b[0m\u001b[0;34m(\u001b[0m\u001b[0mx\u001b[0m\u001b[0;34m,\u001b[0m \u001b[0my\u001b[0m\u001b[0;34m)\u001b[0m\u001b[0;34m\u001b[0m\u001b[0;34m\u001b[0m\u001b[0m\n\u001b[0m",
            "\u001b[0;32m/tmp/ipython-input-3901679472.py\u001b[0m in \u001b[0;36mfindCrossoverIndex\u001b[0;34m(arr1, arr2)\u001b[0m\n\u001b[1;32m     36\u001b[0m         \u001b[0;32mraise\u001b[0m \u001b[0mValueError\u001b[0m\u001b[0;34m(\u001b[0m\u001b[0;34m\"Arrays must contain at least two elements.\"\u001b[0m\u001b[0;34m)\u001b[0m\u001b[0;34m\u001b[0m\u001b[0;34m\u001b[0m\u001b[0m\n\u001b[1;32m     37\u001b[0m \u001b[0;34m\u001b[0m\u001b[0m\n\u001b[0;32m---> 38\u001b[0;31m     \u001b[0;32mreturn\u001b[0m \u001b[0mfindCrossoverIndexHelper\u001b[0m\u001b[0;34m(\u001b[0m\u001b[0marr1\u001b[0m\u001b[0;34m,\u001b[0m \u001b[0marr2\u001b[0m\u001b[0;34m,\u001b[0m \u001b[0;36m0\u001b[0m\u001b[0;34m,\u001b[0m \u001b[0mlen\u001b[0m\u001b[0;34m(\u001b[0m\u001b[0marr1\u001b[0m\u001b[0;34m)\u001b[0m \u001b[0;34m-\u001b[0m \u001b[0;36m1\u001b[0m\u001b[0;34m)\u001b[0m\u001b[0;34m\u001b[0m\u001b[0;34m\u001b[0m\u001b[0m\n\u001b[0m\u001b[1;32m     39\u001b[0m \u001b[0;34m\u001b[0m\u001b[0m\n\u001b[1;32m     40\u001b[0m \u001b[0;32mdef\u001b[0m \u001b[0mfindCrossoverIndexHelper\u001b[0m\u001b[0;34m(\u001b[0m\u001b[0marr1\u001b[0m\u001b[0;34m,\u001b[0m \u001b[0marr2\u001b[0m\u001b[0;34m,\u001b[0m \u001b[0mleft\u001b[0m\u001b[0;34m,\u001b[0m \u001b[0mright\u001b[0m\u001b[0;34m)\u001b[0m\u001b[0;34m:\u001b[0m\u001b[0;34m\u001b[0m\u001b[0;34m\u001b[0m\u001b[0m\n",
            "\u001b[0;32m/tmp/ipython-input-3901679472.py\u001b[0m in \u001b[0;36mfindCrossoverIndexHelper\u001b[0;34m(arr1, arr2, left, right)\u001b[0m\n\u001b[1;32m     81\u001b[0m         \u001b[0;32mreturn\u001b[0m \u001b[0mfindCrossoverIndexHelper\u001b[0m\u001b[0;34m(\u001b[0m\u001b[0marr1\u001b[0m\u001b[0;34m,\u001b[0m \u001b[0marr2\u001b[0m\u001b[0;34m,\u001b[0m \u001b[0mmid\u001b[0m \u001b[0;34m+\u001b[0m \u001b[0;36m1\u001b[0m\u001b[0;34m,\u001b[0m \u001b[0mright\u001b[0m\u001b[0;34m)\u001b[0m\u001b[0;34m\u001b[0m\u001b[0;34m\u001b[0m\u001b[0m\n\u001b[1;32m     82\u001b[0m     \u001b[0;32melse\u001b[0m\u001b[0;34m:\u001b[0m\u001b[0;34m\u001b[0m\u001b[0;34m\u001b[0m\u001b[0m\n\u001b[0;32m---> 83\u001b[0;31m         \u001b[0;32mreturn\u001b[0m \u001b[0mfindCrossoverIndexHelper\u001b[0m\u001b[0;34m(\u001b[0m\u001b[0marr1\u001b[0m\u001b[0;34m,\u001b[0m \u001b[0marr2\u001b[0m\u001b[0;34m,\u001b[0m \u001b[0mleft\u001b[0m\u001b[0;34m,\u001b[0m \u001b[0mmid\u001b[0m \u001b[0;34m-\u001b[0m \u001b[0;36m1\u001b[0m\u001b[0;34m)\u001b[0m\u001b[0;34m\u001b[0m\u001b[0;34m\u001b[0m\u001b[0m\n\u001b[0m\u001b[1;32m     84\u001b[0m \u001b[0;34m\u001b[0m\u001b[0m\n\u001b[1;32m     85\u001b[0m \u001b[0;34m\u001b[0m\u001b[0m\n",
            "\u001b[0;32m/tmp/ipython-input-3901679472.py\u001b[0m in \u001b[0;36mfindCrossoverIndexHelper\u001b[0;34m(arr1, arr2, left, right)\u001b[0m\n\u001b[1;32m     69\u001b[0m         \u001b[0;32mraise\u001b[0m \u001b[0mValueError\u001b[0m\u001b[0;34m(\u001b[0m\u001b[0;34mf\"Expected arr1[{left}] > arr2[{left}], got {arr1[left]} <= {arr2[left]}.\"\u001b[0m\u001b[0;34m)\u001b[0m\u001b[0;34m\u001b[0m\u001b[0;34m\u001b[0m\u001b[0m\n\u001b[1;32m     70\u001b[0m     \u001b[0;32mif\u001b[0m \u001b[0marr1\u001b[0m\u001b[0;34m[\u001b[0m\u001b[0mright\u001b[0m\u001b[0;34m]\u001b[0m \u001b[0;34m>=\u001b[0m \u001b[0marr2\u001b[0m\u001b[0;34m[\u001b[0m\u001b[0mright\u001b[0m\u001b[0;34m]\u001b[0m\u001b[0;34m:\u001b[0m\u001b[0;34m\u001b[0m\u001b[0;34m\u001b[0m\u001b[0m\n\u001b[0;32m---> 71\u001b[0;31m         \u001b[0;32mraise\u001b[0m \u001b[0mValueError\u001b[0m\u001b[0;34m(\u001b[0m\u001b[0;34mf\"Expected arr1[{right}] < arr2[{right}], got {arr1[right]} >= {arr2[right]}.\"\u001b[0m\u001b[0;34m)\u001b[0m\u001b[0;34m\u001b[0m\u001b[0;34m\u001b[0m\u001b[0m\n\u001b[0m\u001b[1;32m     72\u001b[0m \u001b[0;34m\u001b[0m\u001b[0m\n\u001b[1;32m     73\u001b[0m     \u001b[0mmid\u001b[0m \u001b[0;34m=\u001b[0m \u001b[0;34m(\u001b[0m\u001b[0mleft\u001b[0m \u001b[0;34m+\u001b[0m \u001b[0mright\u001b[0m\u001b[0;34m)\u001b[0m \u001b[0;34m//\u001b[0m \u001b[0;36m2\u001b[0m\u001b[0;34m\u001b[0m\u001b[0;34m\u001b[0m\u001b[0m\n",
            "\u001b[0;31mValueError\u001b[0m: Expected arr1[1] < arr2[1], got 15 >= 10."
          ]
        }
      ]
    }
  ]
}