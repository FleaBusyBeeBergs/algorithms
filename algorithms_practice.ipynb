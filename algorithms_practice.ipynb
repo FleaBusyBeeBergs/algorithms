{
  "nbformat": 4,
  "nbformat_minor": 0,
  "metadata": {
    "colab": {
      "provenance": [],
      "generative_ai_disabled": true,
      "authorship_tag": "ABX9TyM+y61iVGSyg9hjnFmV8d6p",
      "include_colab_link": true
    },
    "kernelspec": {
      "name": "python3",
      "display_name": "Python 3"
    },
    "language_info": {
      "name": "python"
    }
  },
  "cells": [
    {
      "cell_type": "markdown",
      "metadata": {
        "id": "view-in-github",
        "colab_type": "text"
      },
      "source": [
        "<a href=\"https://colab.research.google.com/github/FleaBusyBeeBergs/algorithms/blob/main/algorithms_practice.ipynb\" target=\"_parent\"><img src=\"https://colab.research.google.com/assets/colab-badge.svg\" alt=\"Open In Colab\"/></a>"
      ]
    },
    {
      "cell_type": "markdown",
      "source": [
        "# Algorithms practice"
      ],
      "metadata": {
        "id": "31Yt_wYWFYIg"
      }
    },
    {
      "cell_type": "markdown",
      "source": [
        "## 1. Sorting"
      ],
      "metadata": {
        "id": "RQ_UI1Xxd5Hx"
      }
    },
    {
      "cell_type": "markdown",
      "source": [
        "### 1.1 Insertion Sort"
      ],
      "metadata": {
        "id": "as84lcQya9TE"
      }
    },
    {
      "cell_type": "code",
      "execution_count": null,
      "metadata": {
        "id": "mQZ2whqTFRC2"
      },
      "outputs": [],
      "source": [
        "# insertion sort ascending\n",
        "# to get descending, change condition to arr[i] < key\n",
        "\n",
        "def insertion_sort(arr):\n",
        "  '''\n",
        "  Sorts a list of comparable elements in ascending order using the insertion sort algorithm.\n",
        "\n",
        "  Parameters:\n",
        "        arr (list): The list of elements to be sorted. Elements must be comparable using '>'.\n",
        "\n",
        "  Returns:\n",
        "        None: The input list is sorted in place.\n",
        "\n",
        "  Algorithm:\n",
        "        - Iterates through the list starting from index 1.\n",
        "        - For each element (the 'key'), shifts all larger elements in the sorted portion of the list\n",
        "          one position to the right.\n",
        "        - Inserts the key into its correct sorted position.\n",
        "\n",
        "  Time Complexity:\n",
        "        - Best case (already sorted): O(n)\n",
        "        - Worst case (reverse sorted): O(n^2)\n",
        "        - Average case: O(n^2)\n",
        "\n",
        "  Space Complexity:\n",
        "        - O(1), since sorting is done in place.\n",
        "  '''\n",
        "\n",
        "def insertion_sort(arr):\n",
        "\tfor j in range(1, len(arr)):\n",
        "\t\tkey = arr[j]\n",
        "\t\ti = j - 1\n",
        "\n",
        "\t\twhile i >= 0 and arr[i] > key:\n",
        "\t\t\tarr[i + 1] = arr[i]\n",
        "\t\t\ti -= 1\n",
        "\n",
        "\t\tarr[i + 1] = key\n",
        "\n",
        "\n"
      ]
    },
    {
      "cell_type": "code",
      "source": [
        "A = [10,-2, 18, -27, 101, 198, 13, 2]\n",
        "\n",
        "insertion_sort(A)\n",
        "\n",
        "print(A)"
      ],
      "metadata": {
        "colab": {
          "base_uri": "https://localhost:8080/"
        },
        "id": "EwQXupN8HXd7",
        "outputId": "22bf9f30-18f9-4a22-9fae-bd3b8fe1a45d"
      },
      "execution_count": 11,
      "outputs": [
        {
          "output_type": "stream",
          "name": "stdout",
          "text": [
            "[-27, -2, 2, 10, 13, 18, 101, 198]\n"
          ]
        }
      ]
    },
    {
      "cell_type": "markdown",
      "source": [
        "### 1.2 Merge sort"
      ],
      "metadata": {
        "id": "FI0lBslMn3nj"
      }
    },
    {
      "cell_type": "markdown",
      "source": [
        "These notes are meant to augment the presentation of the merge-sort algorithm presented in the lecture.\n",
        "\n",
        "The main idea behind merge sort of a list of size `n` is to\n",
        "  1. Split the list into two \"sublists\" of size `n/2`\n",
        "  2. Sort the sublists\n",
        "  3. Merge the result.\n",
        "\n",
        "#### Merging Sorted Lists\n",
        "\n",
        "We will first focus on the merge procedure that given two lists\n",
        "`lst1` and `lst2` which are sorted in ascending order, returns\n",
        "a list that contains all the elements in `lst1` and `lst2` and is\n",
        "in sorted order.\n",
        "\n",
        "The main idea behind merge is to maintain two indices `i1` and `i2`,\n",
        "where `i1` is an index for `lst1` and `i2` is an index for `lst2`.\n",
        "\n",
        "  - If `lst1[i1] <= lst2[i2]` then we take the element `lst1[i1]` and  append it at the end of our output list. We then advance the index `i1`.\n",
        "  - Alternatively, `lst1[i1] > lst2[i2]`, then we take `lst2[i2]` and append it to the end of our output list. We then advance the index `i2`.\n",
        "\n",
        "If in the process above, we run over the end of the list, we simply copy the remaining elements of the other list."
      ],
      "metadata": {
        "id": "ABj3JLzApFn8"
      }
    },
    {
      "cell_type": "code",
      "source": [
        "def mergeLists(lst1, lst2):\n",
        "    n1 = len(lst1)\n",
        "    n2 = len(lst2)\n",
        "    if n1 == 0: # lst1 is empty\n",
        "        return list(lst2)\n",
        "    elif n2 == 0:\n",
        "        return list(lst1)\n",
        "    else:\n",
        "        output_lst = [] # This is the list we will return\n",
        "        i1 = 0\n",
        "        i2 = 0\n",
        "        while (i1 < n1 or i2 < n2):\n",
        "            if i1 < n1 and i2 < n2: # We are processing both lists\n",
        "                if (lst1[i1] <= lst2[i2]): # lst[i1] is the smaller elt\n",
        "                    output_lst.append(lst1[i1]) # append to end of output list\n",
        "                    i1 = i1 + 1 # advance index i1\n",
        "                else:\n",
        "                    output_lst.append(lst2[i2]) # append to end of output list\n",
        "                    i2 = i2 + 1 # advance index i2\n",
        "            elif i1 < n1: # We have run past the end of lst2\n",
        "                output_lst.append(lst1[i1]) # append lst1 to end of output list\n",
        "                i1 = i1 + 1\n",
        "            else:  # We have run past the end of lst1\n",
        "                output_lst.append(lst2[i2]) # append lst2 to end of output list\n",
        "                i2 = i2 + 1\n",
        "        return output_lst"
      ],
      "metadata": {
        "id": "ueJ60Un3pP91"
      },
      "execution_count": null,
      "outputs": []
    },
    {
      "cell_type": "code",
      "source": [
        "def mergeLists(lst1, lst2):\n",
        "\tn1 = len(lst1)\n",
        "\tn2 = len(lst2)\n",
        "\n",
        "\tif n1 == 0: \t\t# lst1 empty\n",
        "\t\treturn lst2\n",
        "\telif n2 == 0: \t\t# lst2 empty\n",
        "\t\treturn lst1\n",
        "\telse:\n",
        "\t\toutput_lst = []\n",
        "\t\ti1 = 0\t\t# we start from the left of each list\n",
        "\t\ti2 = 0\n",
        "\n",
        "\t\twhile (i1 < n1 or i2 < n2): \t# as long as one of the lists has at least one element\n",
        "\t\t\tif i1 < n1 and i2 < n2:\n",
        "\t\t\t\tif (lst1[i1] <= lst2[i2]):\n",
        "\t\t\t\t\toutput_lst.append(lst1[i1])\n",
        "\t\t\t\t\ti1 += 1\n",
        "\t\t\t\telse:\n",
        "\t\t\t\t\toutput_lst.append(lst2[i2])\n",
        "\t\t\t\t\ti2 += 1\n",
        "\n",
        "\t\t\telif i1 < n1: \t# we've run past the end of lst2\n",
        "\t\t\t\toutput_lst.append(lst1[i1])\n",
        "\t\t\t\ti1 += 1\n",
        "\t\t\telse: \t\t# we've run past the end of lst1\n",
        "\t\t\t\toutput_lst.append(lst2[i2])\n",
        "\t\t\t\ti2 += 1\n",
        "\t\treturn output_lst"
      ],
      "metadata": {
        "id": "1IfRGkWmtT5D"
      },
      "execution_count": null,
      "outputs": []
    },
    {
      "cell_type": "code",
      "source": [
        "# TEST CASES\n",
        "lst1 = mergeLists([0, 2, 3, 7, 10], [1, 4, 5, 6, 7, 8, 9, 10, 11, 12])\n",
        "print('lst1: %s' % str(lst1))\n",
        "assert lst1 == [0, 1, 2, 3, 4, 5, 6, 7, 7, 8, 9, 10, 10, 11, 12]\n",
        "\n",
        "lst2 = mergeLists([0,2],[1,3,6])\n",
        "print('lst2: %s' % str(lst2))\n",
        "assert lst2 == [0, 1, 2, 3, 6]\n",
        "\n",
        "lst3 = mergeLists([0], [0])\n",
        "\n",
        "print('lst3: %s' % str(lst3))\n",
        "assert lst3 == [0, 0]\n",
        "\n",
        "lst4 = mergeLists([], [0, 1, 5])\n",
        "print('lst4: %s' % str(lst4))\n",
        "assert lst4 == [0, 1, 5]\n",
        "\n",
        "lst5 = mergeLists([0, 1, 5], [])\n",
        "print('lst5: %s' % str(lst5))\n",
        "assert lst5 == [0, 1, 5]"
      ],
      "metadata": {
        "id": "4A85u8FwpSAY",
        "outputId": "ef332958-99a6-4483-aec7-a51661109977",
        "colab": {
          "base_uri": "https://localhost:8080/"
        }
      },
      "execution_count": null,
      "outputs": [
        {
          "output_type": "stream",
          "name": "stdout",
          "text": [
            "lst1: [0, 1, 2, 3, 4, 5, 6, 7, 7, 8, 9, 10, 10, 11, 12]\n",
            "lst2: [0, 1, 2, 3, 6]\n",
            "lst3: [0, 0]\n",
            "lst4: [0, 1, 5]\n",
            "lst5: [0, 1, 5]\n"
          ]
        }
      ]
    },
    {
      "cell_type": "markdown",
      "source": [
        "#### Correctness of Merge Sorted Lists Algorithm\n",
        "\n",
        "The correctness of merge algorithm is given by the following \"loop invariant\" that holds whenever we are running the main loop of the algorithm.\n",
        "\n",
        "\n",
        "```python\n",
        "while (i1 < n1 or i2 < n2): ## WHILE LOOP\n",
        "    if i1 < n1 and i2 < n2:\n",
        "        if (lst1[i1] <= lst2[i2]):\n",
        "            output_lst.append(lst1[i1])\n",
        "            i1 = i1 + 1\n",
        "        else:\n",
        "            output_lst.append(lst2[i2])\n",
        "            i2 = i2 + 1\n",
        "        elif i1 < n1:\n",
        "            output_lst.append(lst1[i1])\n",
        "            i1 = i1 + 1\n",
        "        else:\n",
        "            output_lst.append(lst2[i2])\n",
        "            i2 = i2 + 1\n",
        "```\n",
        "\n",
        "\n",
        "**Loop Invariant** The loop invariant is the condition that is established during each iteration of the WHILE LOOP whenever the control reaches the loop head. For this algorithm the key loop invariants are\n",
        "  - `0 <= i1 <= n1` and `0 <= i2 <= n2`\n",
        "  - `output_lst` is the merge of the _sublists_ `lst1[0:i1]` and `lst2[0:i2]`.\n",
        "    - Note that in python `lst[0:j]` refers to all elements from 0 to j-1. In particular, this is the empty sublist of `j == 0`.\n",
        "  - If `output_lst` is non-empty and `i1 < n1`, then the last element of `output_lst` is less than or equal to `lst1[i1]`\n",
        "  - If `output_lst` is non-empty and `i2 < n2` then the last element of `output_lst` is less than or equal to `lst2[i2]`.\n",
        "  - `output_lst` is sorted in ascending order.\n",
        "\n",
        "**TODO # 1** Convince yourself that the loop invariants all hold at the very beginning when we initialize `i1, i2` and `output_lst` as follows:\n",
        "  - `i1 = i2 = 0`\n",
        "  - `output_lst = []`\n",
        "  \n",
        "  \n",
        "**TODO # 2** Convinuce yourself that if at the beginning of any loop iteration the invariant conditions hold, then it must hold after one further iteration.\n",
        "  - This is somewhat onerous but is a very useful exercise.\n",
        "\n",
        "\n",
        "Note that the while loop exits only when `i1 = n1` and `i2 = n2`. Therefore, the loop invariants imply that when the loop is done:\n",
        "  - `output_lst` is the merge of the lists `lst1` and `lst2`.\n",
        "  - `output_lst` is sorted in ascending order.\n",
        "  \n",
        "**Termination**\n",
        "\n",
        "Note that `i1` or `i2` must increase in each loop iteration and `i1` cannot exceed `n1` and `i2` cannot exceed `n2`. Thus, the loop cannot iterate forever."
      ],
      "metadata": {
        "id": "DH02MJKMpiC_"
      }
    },
    {
      "cell_type": "markdown",
      "source": [
        "#### Mergesort Algorithm\n",
        "\n",
        "We are now ready to code up the full mergesort algorithm. We will reimplement the merge algorithm as well."
      ],
      "metadata": {
        "id": "EAhSd7r_px6s"
      }
    },
    {
      "cell_type": "code",
      "source": [
        "# helper function to swap the elements at two positions in the list\n",
        "def swap(lst, i, j):\n",
        "    n = len(lst)\n",
        "    assert( i >= 0 and i < n)\n",
        "    assert( j >= 0 and j < n)\n",
        "    # We can use a simultaneous assignmment to swap\n",
        "    (lst[i], lst[j]) = (lst[j], lst[i])\n",
        "    return\n",
        "\n",
        "# this function copies the result of the merge back into the original list\n",
        "# Function: copy_back\n",
        "# output_lst is the list that contains right - left + 1 elements.\n",
        "# lst is the list we need to copy into\n",
        "# left and right are indices into list.\n",
        "# TODO: copy elements from output_lst into lst[left:right+1]\n",
        "# Note that python range left:right+1 includes indices from left,..., right.\n",
        "\n",
        "def copy_back(output_lst, lst, left, right):\n",
        "    # Ensure that the output has the right length for us to copy back\n",
        "    assert(len(output_lst) == right - left + 1)\n",
        "    for i in range(left, right+1):\n",
        "        lst[i] = output_lst[i - left]\n",
        "    return\n",
        "\n",
        "#Function: mergeHelper\n",
        "# merge elements from lst[left:mid+1]  and lst[mid+1:right+1]\n",
        "# create a temporary output list to hold the merged result and\n",
        "# copy that back using the copy_back function.\n",
        "# This was lst is modified in place.\n",
        "def mergeHelper(lst, left, mid, right):\n",
        "    # Perform a merge on sublists lst[left:mid+1] and lst[mid+1:right+1]\n",
        "    # This is the same algorithm as merge above but we will need to copy\n",
        "    # things back to the original list.\n",
        "    if left > mid or mid > right:  # one of the two sublists is empty\n",
        "        return\n",
        "    i1 = left\n",
        "    i2 = mid + 1\n",
        "    output_lst = []\n",
        "    while (i1 <= mid or i2 <= right):\n",
        "        if (i1 <= mid and i2 <= right):\n",
        "            if lst[i1] <= lst[i2]:\n",
        "                output_lst.append(lst[i1])\n",
        "                i1 = i1 + 1\n",
        "            else:\n",
        "                output_lst.append(lst[i2])\n",
        "                i2 = i2 + 1\n",
        "        elif i1 <= mid:\n",
        "            output_lst.append(lst[i1])\n",
        "            i1 = i1 + 1\n",
        "        else:\n",
        "            output_lst.append(lst[i2])\n",
        "            i2 = i2 + 1\n",
        "    copy_back(output_lst, lst, left, right)\n",
        "    return\n",
        "# Function: mergeSortHelper\n",
        "# recursive implementation of mergesort.\n",
        "def mergesortHelper(lst, left, right):\n",
        "    if (left == right): # Region to sort is just a singleton\n",
        "        return\n",
        "    elif (left + 1 == right): # region to sort has two elements\n",
        "        if (lst[left] > lst[right]): # compare\n",
        "            swap(lst, left, right)   # and swap if needed\n",
        "    else:\n",
        "        mid = (left + right ) // 2  # compute mid point.\n",
        "        # Note that // is integer division in python3.\n",
        "        mergesortHelper(lst, left, mid) # Sort left half recursively\n",
        "        mergesortHelper(lst, mid + 1 , right) # Sort right half recursively\n",
        "        mergeHelper(lst, left, mid, right) # merge them together.\n",
        "\n",
        "# Function mergesort\n",
        "#   Sort the list in place and modify it so that\n",
        "#   lst is sorted when the function returns.\n",
        "def mergesort(lst):\n",
        "    if len(lst) <= 1:\n",
        "        return # nothing to do\n",
        "    else:\n",
        "        mergesortHelper(lst, 0, len(lst)-1)"
      ],
      "metadata": {
        "id": "94IeJoT3n3EF"
      },
      "execution_count": null,
      "outputs": []
    },
    {
      "cell_type": "code",
      "source": [
        "# Let us run a few test cases\n",
        "\n",
        "lst = [0, 5, 6, 2, 19, -1, 2, 3, 0, 4, 5, 8]\n",
        "mergesort(lst)\n",
        "print(lst)\n",
        "\n",
        "lst1 = [0, 1, 2, 6, 18, 19, -20, -45, -23, 25, 56, 19, 81, 123, 122]\n",
        "mergesort(lst1)\n",
        "print(lst1)\n",
        "\n",
        "lst2 = [4,3,2,1]\n",
        "mergesort(lst2)\n",
        "print(lst2)\n",
        "\n",
        "lst4 = [1]\n",
        "mergesort(lst4)\n",
        "print(lst4)\n",
        "\n",
        "lst5 = []\n",
        "mergesort(lst5)\n",
        "print(lst5)"
      ],
      "metadata": {
        "id": "oGo0DSShoDr2",
        "outputId": "e1826a15-e5a3-4fc1-9664-1a47621f7d57",
        "colab": {
          "base_uri": "https://localhost:8080/"
        }
      },
      "execution_count": null,
      "outputs": [
        {
          "output_type": "stream",
          "name": "stdout",
          "text": [
            "[-1, 0, 0, 2, 2, 3, 4, 5, 5, 6, 8, 19]\n",
            "[-45, -23, -20, 0, 1, 2, 6, 18, 19, 19, 25, 56, 81, 122, 123]\n",
            "[1, 2, 3, 4]\n",
            "[1]\n",
            "[]\n"
          ]
        }
      ]
    },
    {
      "cell_type": "markdown",
      "source": [
        "#### Correctness of Mergesort\n",
        "\n",
        "```python\n",
        "def mergesortHelper(lst, left, right):\n",
        "    if (left == right): # Region to sort is just a singleton\n",
        "        return\n",
        "    elif (left + 1 == right): # region to sort has two elements\n",
        "        if (lst[left] > lst[right]): # compare\n",
        "            swap(lst, left, right)   # and swap if needed\n",
        "    else:\n",
        "        mid = (left + right ) // 2  # compute mid point\n",
        "        mergesortHelper(lst, left, mid) # Sort left half\n",
        "        mergesortHelper(lst, mid + 1 , right) # Sort right half\n",
        "        mergeHelper(lst, left, mid, right) # merge them together.\n",
        "```\n",
        "\n",
        "We establish the following properties whenever we call the function mergesortHelper with arguments lst, left, right.\n",
        "\n",
        "* 0 <= left <= right < len(lst).\n",
        "We have to assume that mergeHelper correctly merges the two sorted sublists lst[left:mid+1] and lst[mid+1:right+1] resulting in a sorted and merged sublist lst[left:right+1].\n",
        "\n",
        "We can then prove by induction that when mergesortHelper exits the sublist lst[left:right+1] is sorted. Recall the sublist notation from above.\n",
        "\n",
        "* Base Cases : left == right. The sublist is trivially sorted.\n",
        "    * left +1 == right: The sublist has two elements and we note by inspecting the code that by comparing lst[left], lst[right] and swapping them, the algorithm ensures that lst[left:right+1] is sorted.\n",
        "* Induction: Let k = right - left + 1 be the size of the region we are asked to sort. Assume that mergesortHelper correctly sorts whenever the sorting region has size strictly less than k. Therefore, after we have the calls to sort the left half and right half, we ensure that the two sublists lst[left:mid+1] and lst[mid+1:right+1] are themselves sorted. Finally, we appeal to the correctness of mergeHelper method and note that the entire sublist lst[left:right+1] ends up sorted when we exit the mergesort procedure.\n",
        "\n",
        "### Running Time Complexity of Mergesort\n",
        "\n",
        "This analysis was provided as part of the lecture. We noted that\n",
        "the running time complexity of mergesort was $\\Theta(n \\log(n))$ for an input list of size $n$."
      ],
      "metadata": {
        "id": "zieEuJY9oSkf"
      }
    },
    {
      "cell_type": "markdown",
      "source": [
        "## 2. Searching"
      ],
      "metadata": {
        "id": "ln29XHwzeAzZ"
      }
    },
    {
      "cell_type": "markdown",
      "source": [
        "### 2.1 Binary Search"
      ],
      "metadata": {
        "id": "jQYZhTjjbCwi"
      }
    },
    {
      "cell_type": "code",
      "source": [
        "# binary search - only works on sorted arrays\n",
        "\n",
        "def binary_search(lst, elt):\n",
        "\t  return BinarySearchHelper(lst, elt, 0, len(lst) - 1)\n",
        "\n",
        "def BinarySearchHelper (lst, elt, left, right):\n",
        "    '''\n",
        "    Recursively performs a binary search for `elt` within a sorted list `lst`.\n",
        "\n",
        "    Parameters:\n",
        "        lst (list): The sorted list to search in.\n",
        "        elt (any): The element to search for.\n",
        "        left (int): The starting index of the current search range.\n",
        "        right (int): The ending index of the current search range.\n",
        "\n",
        "    Returns:\n",
        "        int: The index of `elt` in `lst` if found.\n",
        "        None: If `elt` is not present in `lst`.\n",
        "\n",
        "    Preconditions:\n",
        "        - 0 <= left <= right <= len(lst) - 1\n",
        "        - lst must be sorted in ascending order.\n",
        "        - If `elt` exists in `lst`, it must be within the sublist lst[left:right+1].\n",
        "\n",
        "    Invariant:\n",
        "        The search range is always reduced in size with each recursive call.\n",
        "    '''\n",
        "    if lst[left] > lst[right]:\n",
        "        return None \t# search region empty\n",
        "\n",
        "    else:\n",
        "\n",
        "        mid = (left + right) // 2\n",
        "\n",
        "        if lst[mid] == elt:\n",
        "            return mid \t# eltfound\n",
        "\n",
        "        elif lst[mid] < elt:\n",
        "            return BinarySearchHelper(lst, elt, mid + 1, right) \t# search right half\n",
        "\n",
        "        else:\n",
        "            return BinarySearchHelper(lst, elt, left, mid - 1)"
      ],
      "metadata": {
        "id": "AsCLAdRvF2c-"
      },
      "execution_count": null,
      "outputs": []
    },
    {
      "cell_type": "code",
      "source": [
        "print(A)"
      ],
      "metadata": {
        "colab": {
          "base_uri": "https://localhost:8080/"
        },
        "id": "NI9NMIMRPm3w",
        "outputId": "a5ddf176-b12b-44f9-c0fe-17e5f8d16e3d"
      },
      "execution_count": 28,
      "outputs": [
        {
          "output_type": "stream",
          "name": "stdout",
          "text": [
            "[-27, -2, 2, 10, 13, 18, 101, 198]\n"
          ]
        }
      ]
    },
    {
      "cell_type": "code",
      "source": [
        "elt = -27\n",
        "\n",
        "binary_search(A, elt)"
      ],
      "metadata": {
        "colab": {
          "base_uri": "https://localhost:8080/"
        },
        "id": "MQcWSb0PWaM3",
        "outputId": "f066a3a1-70b4-4cf2-9617-2b22d8fa85c4"
      },
      "execution_count": 31,
      "outputs": [
        {
          "output_type": "execute_result",
          "data": {
            "text/plain": [
              "0"
            ]
          },
          "metadata": {},
          "execution_count": 31
        }
      ]
    },
    {
      "cell_type": "markdown",
      "source": [
        "## 3. Indexing"
      ],
      "metadata": {
        "id": "eipuVhdUeKtS"
      }
    },
    {
      "cell_type": "markdown",
      "source": [
        "### 3.1 Find Crossover Index"
      ],
      "metadata": {
        "id": "j-4SYPdabRdO"
      }
    },
    {
      "cell_type": "code",
      "source": [
        "# a more production-safe version using raise ValurError() checks instead of assertions\n",
        "def findCrossoverIndex(arr1, arr2):\n",
        "    '''\n",
        "    Finds a crossover index i in the arrays such that:\n",
        "        arr1[i] > arr2[i] and arr1[i+1] <= arr2[i+1].\n",
        "\n",
        "    The arrays must be strictly increasing and satisfy:\n",
        "        - arr1[0] > arr2[0]\n",
        "        - arr1[-1] < arr2[-1]\n",
        "    This guarantees that a crossover point exists.\n",
        "\n",
        "    Parameters:\n",
        "        arr1: list of float or int\n",
        "            Sorted list in strictly increasing order.\n",
        "        arr2: list of float or int\n",
        "            Sorted list in strictly increasing order.\n",
        "\n",
        "    Returns:\n",
        "        int: An index i where the crossover occurs.\n",
        "\n",
        "    Raises:\n",
        "        ValueError: If arrays are invalid or constraints not met.\n",
        "    '''\n",
        "    if len(arr1) != len(arr2):\n",
        "        raise ValueError(\"arr1 and arr2 must have the same length.\")\n",
        "    if arr1[0] <= arr2[0]:\n",
        "        raise ValueError(\"arr1[0] must be greater than arr2[0].\")\n",
        "    if arr1[-1] >= arr2[-1]:\n",
        "        raise ValueError(\"arr1[-1] must be less than arr2[-1].\")\n",
        "    if len(arr1) < 2:\n",
        "        raise ValueError(\"Arrays must contain at least two elements.\")\n",
        "\n",
        "    return findCrossoverIndexHelper(arr1, arr2, 0, len(arr1) - 1)\n",
        "\n",
        "def findCrossoverIndexHelper(arr1, arr2, left, right):\n",
        "    '''\n",
        "    Recursively find a crossover index i in the range [left, right-1] such that:\n",
        "        arr1[i] > arr2[i] and arr1[i+1] <= arr2[i+1].\n",
        "\n",
        "    Parameters:\n",
        "        arr1: list of float or int\n",
        "            Sorted list in strictly increasing order.\n",
        "        arr2: list of float or int\n",
        "            Sorted list in strictly increasing order.\n",
        "        left: int\n",
        "            Left bound (inclusive) of the search region.\n",
        "        right: int\n",
        "            Right bound (inclusive) of the search region.\n",
        "\n",
        "    Returns:\n",
        "        int: An index i where the crossover occurs.\n",
        "\n",
        "    Raises:\n",
        "        ValueError: If arr1 and arr2 do not have the same length or do not satisfy problem constraints.\n",
        "\n",
        "    IndexError:\n",
        "        If left/right bounds are invalid.\n",
        "    '''\n",
        "    if len(arr1) != len(arr2):\n",
        "        raise ValueError(\"arr1 and arr2 must have the same length.\")\n",
        "    if not (0 <= left < right < len(arr1)):\n",
        "        raise IndexError(\"Invalid search bounds.\")\n",
        "    if arr1[left] <= arr2[left]:\n",
        "        raise ValueError(f\"Expected arr1[{left}] > arr2[{left}], got {arr1[left]} <= {arr2[left]}.\")\n",
        "    if arr1[right] >= arr2[right]:\n",
        "        raise ValueError(f\"Expected arr1[{right}] < arr2[{right}], got {arr1[right]} >= {arr2[right]}.\")\n",
        "\n",
        "    mid = (left + right) // 2\n",
        "    if mid + 1 >= len(arr1):\n",
        "        raise IndexError(\"mid+1 is out of range — check input arrays.\")\n",
        "\n",
        "    # Check if current mid is the crossover point\n",
        "    if arr1[mid] > arr2[mid] and arr1[mid + 1] <= arr2[mid + 1]:\n",
        "        return mid\n",
        "    elif arr1[mid] > arr2[mid]:\n",
        "        return findCrossoverIndexHelper(arr1, arr2, mid + 1, right)\n",
        "    else:\n",
        "        return findCrossoverIndexHelper(arr1, arr2, left, mid - 1)\n",
        "\n",
        "\n"
      ],
      "metadata": {
        "id": "3TSBJCfOfcZ2"
      },
      "execution_count": null,
      "outputs": []
    },
    {
      "cell_type": "code",
      "source": [
        "x = [10, 15, 20, 25, 30]\n",
        "y = [0, 10, 20, 30, 40]\n",
        "\n",
        "findCrossoverIndex(x, y)"
      ],
      "metadata": {
        "colab": {
          "base_uri": "https://localhost:8080/",
          "height": 321
        },
        "id": "ePf-qkE5ldj0",
        "outputId": "f9365d60-9685-43de-8373-511da32f8e33"
      },
      "execution_count": null,
      "outputs": [
        {
          "output_type": "error",
          "ename": "ValueError",
          "evalue": "Expected arr1[1] < arr2[1], got 15 >= 10.",
          "traceback": [
            "\u001b[0;31m---------------------------------------------------------------------------\u001b[0m",
            "\u001b[0;31mValueError\u001b[0m                                Traceback (most recent call last)",
            "\u001b[0;32m/tmp/ipython-input-3710377804.py\u001b[0m in \u001b[0;36m<cell line: 0>\u001b[0;34m()\u001b[0m\n\u001b[1;32m      2\u001b[0m \u001b[0my\u001b[0m \u001b[0;34m=\u001b[0m \u001b[0;34m[\u001b[0m\u001b[0;36m0\u001b[0m\u001b[0;34m,\u001b[0m \u001b[0;36m10\u001b[0m\u001b[0;34m,\u001b[0m \u001b[0;36m20\u001b[0m\u001b[0;34m,\u001b[0m \u001b[0;36m30\u001b[0m\u001b[0;34m,\u001b[0m \u001b[0;36m40\u001b[0m\u001b[0;34m]\u001b[0m\u001b[0;34m\u001b[0m\u001b[0;34m\u001b[0m\u001b[0m\n\u001b[1;32m      3\u001b[0m \u001b[0;34m\u001b[0m\u001b[0m\n\u001b[0;32m----> 4\u001b[0;31m \u001b[0mfindCrossoverIndex\u001b[0m\u001b[0;34m(\u001b[0m\u001b[0mx\u001b[0m\u001b[0;34m,\u001b[0m \u001b[0my\u001b[0m\u001b[0;34m)\u001b[0m\u001b[0;34m\u001b[0m\u001b[0;34m\u001b[0m\u001b[0m\n\u001b[0m",
            "\u001b[0;32m/tmp/ipython-input-3901679472.py\u001b[0m in \u001b[0;36mfindCrossoverIndex\u001b[0;34m(arr1, arr2)\u001b[0m\n\u001b[1;32m     36\u001b[0m         \u001b[0;32mraise\u001b[0m \u001b[0mValueError\u001b[0m\u001b[0;34m(\u001b[0m\u001b[0;34m\"Arrays must contain at least two elements.\"\u001b[0m\u001b[0;34m)\u001b[0m\u001b[0;34m\u001b[0m\u001b[0;34m\u001b[0m\u001b[0m\n\u001b[1;32m     37\u001b[0m \u001b[0;34m\u001b[0m\u001b[0m\n\u001b[0;32m---> 38\u001b[0;31m     \u001b[0;32mreturn\u001b[0m \u001b[0mfindCrossoverIndexHelper\u001b[0m\u001b[0;34m(\u001b[0m\u001b[0marr1\u001b[0m\u001b[0;34m,\u001b[0m \u001b[0marr2\u001b[0m\u001b[0;34m,\u001b[0m \u001b[0;36m0\u001b[0m\u001b[0;34m,\u001b[0m \u001b[0mlen\u001b[0m\u001b[0;34m(\u001b[0m\u001b[0marr1\u001b[0m\u001b[0;34m)\u001b[0m \u001b[0;34m-\u001b[0m \u001b[0;36m1\u001b[0m\u001b[0;34m)\u001b[0m\u001b[0;34m\u001b[0m\u001b[0;34m\u001b[0m\u001b[0m\n\u001b[0m\u001b[1;32m     39\u001b[0m \u001b[0;34m\u001b[0m\u001b[0m\n\u001b[1;32m     40\u001b[0m \u001b[0;32mdef\u001b[0m \u001b[0mfindCrossoverIndexHelper\u001b[0m\u001b[0;34m(\u001b[0m\u001b[0marr1\u001b[0m\u001b[0;34m,\u001b[0m \u001b[0marr2\u001b[0m\u001b[0;34m,\u001b[0m \u001b[0mleft\u001b[0m\u001b[0;34m,\u001b[0m \u001b[0mright\u001b[0m\u001b[0;34m)\u001b[0m\u001b[0;34m:\u001b[0m\u001b[0;34m\u001b[0m\u001b[0;34m\u001b[0m\u001b[0m\n",
            "\u001b[0;32m/tmp/ipython-input-3901679472.py\u001b[0m in \u001b[0;36mfindCrossoverIndexHelper\u001b[0;34m(arr1, arr2, left, right)\u001b[0m\n\u001b[1;32m     81\u001b[0m         \u001b[0;32mreturn\u001b[0m \u001b[0mfindCrossoverIndexHelper\u001b[0m\u001b[0;34m(\u001b[0m\u001b[0marr1\u001b[0m\u001b[0;34m,\u001b[0m \u001b[0marr2\u001b[0m\u001b[0;34m,\u001b[0m \u001b[0mmid\u001b[0m \u001b[0;34m+\u001b[0m \u001b[0;36m1\u001b[0m\u001b[0;34m,\u001b[0m \u001b[0mright\u001b[0m\u001b[0;34m)\u001b[0m\u001b[0;34m\u001b[0m\u001b[0;34m\u001b[0m\u001b[0m\n\u001b[1;32m     82\u001b[0m     \u001b[0;32melse\u001b[0m\u001b[0;34m:\u001b[0m\u001b[0;34m\u001b[0m\u001b[0;34m\u001b[0m\u001b[0m\n\u001b[0;32m---> 83\u001b[0;31m         \u001b[0;32mreturn\u001b[0m \u001b[0mfindCrossoverIndexHelper\u001b[0m\u001b[0;34m(\u001b[0m\u001b[0marr1\u001b[0m\u001b[0;34m,\u001b[0m \u001b[0marr2\u001b[0m\u001b[0;34m,\u001b[0m \u001b[0mleft\u001b[0m\u001b[0;34m,\u001b[0m \u001b[0mmid\u001b[0m \u001b[0;34m-\u001b[0m \u001b[0;36m1\u001b[0m\u001b[0;34m)\u001b[0m\u001b[0;34m\u001b[0m\u001b[0;34m\u001b[0m\u001b[0m\n\u001b[0m\u001b[1;32m     84\u001b[0m \u001b[0;34m\u001b[0m\u001b[0m\n\u001b[1;32m     85\u001b[0m \u001b[0;34m\u001b[0m\u001b[0m\n",
            "\u001b[0;32m/tmp/ipython-input-3901679472.py\u001b[0m in \u001b[0;36mfindCrossoverIndexHelper\u001b[0;34m(arr1, arr2, left, right)\u001b[0m\n\u001b[1;32m     69\u001b[0m         \u001b[0;32mraise\u001b[0m \u001b[0mValueError\u001b[0m\u001b[0;34m(\u001b[0m\u001b[0;34mf\"Expected arr1[{left}] > arr2[{left}], got {arr1[left]} <= {arr2[left]}.\"\u001b[0m\u001b[0;34m)\u001b[0m\u001b[0;34m\u001b[0m\u001b[0;34m\u001b[0m\u001b[0m\n\u001b[1;32m     70\u001b[0m     \u001b[0;32mif\u001b[0m \u001b[0marr1\u001b[0m\u001b[0;34m[\u001b[0m\u001b[0mright\u001b[0m\u001b[0;34m]\u001b[0m \u001b[0;34m>=\u001b[0m \u001b[0marr2\u001b[0m\u001b[0;34m[\u001b[0m\u001b[0mright\u001b[0m\u001b[0;34m]\u001b[0m\u001b[0;34m:\u001b[0m\u001b[0;34m\u001b[0m\u001b[0;34m\u001b[0m\u001b[0m\n\u001b[0;32m---> 71\u001b[0;31m         \u001b[0;32mraise\u001b[0m \u001b[0mValueError\u001b[0m\u001b[0;34m(\u001b[0m\u001b[0;34mf\"Expected arr1[{right}] < arr2[{right}], got {arr1[right]} >= {arr2[right]}.\"\u001b[0m\u001b[0;34m)\u001b[0m\u001b[0;34m\u001b[0m\u001b[0;34m\u001b[0m\u001b[0m\n\u001b[0m\u001b[1;32m     72\u001b[0m \u001b[0;34m\u001b[0m\u001b[0m\n\u001b[1;32m     73\u001b[0m     \u001b[0mmid\u001b[0m \u001b[0;34m=\u001b[0m \u001b[0;34m(\u001b[0m\u001b[0mleft\u001b[0m \u001b[0;34m+\u001b[0m \u001b[0mright\u001b[0m\u001b[0;34m)\u001b[0m \u001b[0;34m//\u001b[0m \u001b[0;36m2\u001b[0m\u001b[0;34m\u001b[0m\u001b[0;34m\u001b[0m\u001b[0m\n",
            "\u001b[0;31mValueError\u001b[0m: Expected arr1[1] < arr2[1], got 15 >= 10."
          ]
        }
      ]
    },
    {
      "cell_type": "markdown",
      "source": [
        "### 3.2 Cube root integer"
      ],
      "metadata": {
        "id": "PwTSnDg1mY4x"
      }
    },
    {
      "cell_type": "code",
      "source": [
        "# Write down the main function\n",
        "def integerCubeRoot(n):\n",
        "    assert( n > 0)\n",
        "    if (n == 1):\n",
        "        return 1\n",
        "    if (n == 2):\n",
        "        return 1\n",
        "    return integerCubeRootHelper(n, 0, n-1)\n",
        "\n",
        "def integerCubeRootHelper(n, left, right):\n",
        "    cube = lambda x: x * x * x\n",
        "    assert(n >= 1)\n",
        "    assert(left < right)\n",
        "    assert(left >= 0)\n",
        "    #assert(right > n)\n",
        "    assert(cube(left) < n), f'{left}, {right}'\n",
        "    assert(cube(right) > n), f'{left}, {right}'\n",
        "\n",
        "    # your code here\n",
        "\n",
        "    mid = (left + right) // 2\n",
        "\n",
        "    # check if mid is int cube root\n",
        "    if cube(mid) <= n and cube(mid + 1) > n:\n",
        "        return mid\n",
        "\n",
        "    elif cube(mid) > n:\n",
        "        return integerCubeRootHelper(n, left, mid)\n",
        "\n",
        "    else:\n",
        "        return integerCubeRootHelper(n, mid, right)"
      ],
      "metadata": {
        "id": "Ti2TjrmsmRPr"
      },
      "execution_count": null,
      "outputs": []
    },
    {
      "cell_type": "code",
      "source": [
        "assert(integerCubeRoot(1) == 1)\n",
        "assert(integerCubeRoot(2) == 1)\n",
        "assert(integerCubeRoot(4) == 1)\n",
        "assert(integerCubeRoot(7) == 1)\n",
        "assert(integerCubeRoot(8) == 2)\n",
        "assert(integerCubeRoot(20) == 2)\n",
        "assert(integerCubeRoot(26) == 2)\n",
        "for j in range(27, 64):\n",
        "    assert(integerCubeRoot(j) == 3)\n",
        "for j in range(64,125):\n",
        "    assert(integerCubeRoot(j) == 4)\n",
        "for j in range(125, 216):\n",
        "    assert(integerCubeRoot(j) == 5)\n",
        "for j in range(216, 343):\n",
        "    assert(integerCubeRoot(j) == 6)\n",
        "for j in range(343, 512):\n",
        "    assert(integerCubeRoot(j) == 7)\n",
        "print('Congrats: All tests passed! (10 points)')"
      ],
      "metadata": {
        "colab": {
          "base_uri": "https://localhost:8080/"
        },
        "id": "b_ffyZMlmh_K",
        "outputId": "4d450839-0750-499e-c66a-e5744127b5fb"
      },
      "execution_count": null,
      "outputs": [
        {
          "output_type": "stream",
          "name": "stdout",
          "text": [
            "Congrats: All tests passed! (10 points)\n"
          ]
        }
      ]
    }
  ]
}